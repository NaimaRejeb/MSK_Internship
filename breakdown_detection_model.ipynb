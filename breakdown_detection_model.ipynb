{
 "cells": [
  {
   "cell_type": "markdown",
   "id": "ce6c02f7",
   "metadata": {},
   "source": [
    "1. Imports and Libraries"
   ]
  },
  {
   "cell_type": "code",
   "execution_count": 20,
   "id": "667a71c1",
   "metadata": {},
   "outputs": [],
   "source": [
    "import os \n",
    "import librosa\n",
    "import numpy as np \n",
    "import pandas as pd \n",
    "import matplotlib.pyplot as plt\n",
    "from sklearn.preprocessing import LabelEncoder\n",
    "from sklearn.model_selection import train_test_split, StratifiedKFold # StratifiedKFold for cross-validation\n",
    "from sklearn.metrics import accuracy_score, confusion_matrix, classification_report\n",
    "import tensorflow as tf\n",
    "from tensorflow.keras import layers, models, callbacks\n",
    "from tensorflow.keras.regularizers import l2, l1_l2 # l2: L2 regularization that penalizes weights that are too large, l1_l2: Combined L1 and L2 regularization that penalizes weights that are too large and null weights\n",
    "from tqdm import tqdm\n",
    "import joblib # For saving the model"
   ]
  },
  {
   "cell_type": "markdown",
   "id": "7ccd6bcb",
   "metadata": {},
   "source": [
    "2. Centralized Model Configuration"
   ]
  },
  {
   "cell_type": "code",
   "execution_count": 21,
   "id": "fdcf62b1",
   "metadata": {},
   "outputs": [],
   "source": [
    "# Anti-overfitting configuration\n",
    "class Config:\n",
    "    # Paths \n",
    "    INPUT_DIR = r\"C:\\Users\\naima\\OneDrive\\Desktop\\Work\\Modèle_Panne_Voiture\\audios\"\n",
    "    WORKING_DIR =  r\"C:\\Users\\naima\\OneDrive\\Desktop\\Work\\Modèle_Panne_Voiture\"\n",
    "\n",
    "    # Audio parameters\n",
    "    TARGET_LENGTH = 3 \n",
    "    SR = 16000\n",
    "    N_MFCC = 13 # Number of MFCC coefficients\n",
    "    N_MELS = 64\n",
    "    HOP_LENGTH = 512\n",
    "    N_FFT = 1024\n",
    "\n",
    "    # Model parameters\n",
    "    EPOCHS = 80 # Many but with strict early stopping \n",
    "    BATCH_SIZE = 32 # Increased it for more stability\n",
    "    LEARNING_RATE = 0.001 # Lower learning rate to learn more slowly\n",
    "    DROPOUT_RATE = 0.5 # Higher dropout rate to avoid overfitting\n",
    "\n",
    "    # Data augmentation\n",
    "    NOISE_FACTOR = 0.005 # Noise factor for augmentation\n",
    "    TIME_SHIFT_MS = 500 # Time shift for augmentation\n",
    "\n",
    "config = Config()"
   ]
  },
  {
   "cell_type": "markdown",
   "id": "aa965103",
   "metadata": {},
   "source": [
    "3. Extract Audio Features"
   ]
  },
  {
   "cell_type": "code",
   "execution_count": 22,
   "id": "dea172eb",
   "metadata": {},
   "outputs": [],
   "source": [
    "def extract_features(y , sr):\n",
    "    \"\"\"Simplified feature extraction to avoid overfitting\"\"\"\n",
    "\n",
    "    # Basic MFCC only \n",
    "    mfcc = librosa.feature.mfcc(y=y, sr=sr, n_mfcc=config.N_MFCC, n_fft=config.N_FFT, hop_length=config.HOP_LENGTH)\n",
    "\n",
    "    # Add only MFCC delta derivative \n",
    "    mfcc_delta = librosa.feature.delta(mfcc)\n",
    "    mfcc_combined = np.concatenate([mfcc, mfcc_delta], axis=0)\n",
    "\n",
    "    return mfcc_combined"
   ]
  },
  {
   "cell_type": "markdown",
   "id": "55b7693e",
   "metadata": {},
   "source": [
    "4. Light Augmentation"
   ]
  },
  {
   "cell_type": "code",
   "execution_count": 23,
   "id": "58499112",
   "metadata": {},
   "outputs": [],
   "source": [
    "def augmentation(y,sr):\n",
    "    \"\"\"Minimal augmentation to avoid overfitting\"\"\"\n",
    "    augmented_data = []\n",
    "    original_length = len(y)\n",
    "\n",
    "    # Copy of original audio to preserve the original version\n",
    "    augmented_data.append(y.copy()) \n",
    "\n",
    "    # 1st augmentation: Adding light noise\n",
    "    noise = np.random.normal(0, config.NOISE_FACTOR, original_length)\n",
    "    noisy_audio = y + noise\n",
    "    augmented_data.append(noisy_audio)\n",
    "\n",
    "    # 2nd augmentation: Amplitude change\n",
    "    amplitude_factor = np.random.uniform(0.8, 1.2) # 0.8 to 1.2 to avoid extremes\n",
    "    y_amplified = y * amplitude_factor\n",
    "    augmented_data.append(y_amplified)\n",
    "\n",
    "    return augmented_data"
   ]
  },
  {
   "cell_type": "markdown",
   "id": "7e21461b",
   "metadata": {},
   "source": [
    "5. Audio Loading and Processing"
   ]
  },
  {
   "cell_type": "code",
   "execution_count": 24,
   "id": "5dfba807",
   "metadata": {},
   "outputs": [],
   "source": [
    "# Main idea of this function: \n",
    "# Transform audio files into numerical \"identity cards\" (features) that the computer can understand and compare.\n",
    "# Final goal: Have perfectly prepared data so that an AI program can learn to recognize different types of sounds.\n",
    "\n",
    "def load_and_preprocess_data(input_dir, use_augmentation=True, max_samples_per_class=None):\n",
    "    \"\"\"Audio Loading and Preprocessing\"\"\"\n",
    "    all_features = []\n",
    "    labels = []\n",
    "    file_paths = [] # To keep track of file paths (tracking)\n",
    "\n",
    "    class_folders = [f for f in os.listdir(input_dir) if os.path.isdir(os.path.join(input_dir, f))]\n",
    "    print(f\"Detected classes: {class_folders}\")\n",
    "\n",
    "    expected_time_steps = None\n",
    "\n",
    "    for class_name in tqdm(class_folders, desc=\"Processing classes\"):\n",
    "        class_dir = os.path.join(input_dir, class_name)\n",
    "        \n",
    "        # Limit the number of samples per class if specified\n",
    "        files = [f for f in os.listdir(class_dir) if f.endswith(\".wav\")]\n",
    "        if max_samples_per_class:\n",
    "            files = files[:max_samples_per_class]\n",
    "        \n",
    "        for file in tqdm(files, desc=f\"Files {class_name}\", leave=False):\n",
    "            file_path = os.path.join(class_dir, file)\n",
    "\n",
    "            try:\n",
    "                # Loading\n",
    "                y, sr = librosa.load(file_path, sr=config.SR)\n",
    "                y = librosa.util.normalize(y)\n",
    "                \n",
    "                # Trimming/padding\n",
    "                target_samples = config.TARGET_LENGTH * config.SR\n",
    "                if len(y) > target_samples:\n",
    "                    start = (len(y) - target_samples) // 2\n",
    "                    y = y[start:start + target_samples]\n",
    "                else:\n",
    "                    y = np.pad(y, (0, max(0, target_samples - len(y))))\n",
    "                \n",
    "                y = y[:target_samples]\n",
    "                \n",
    "                # Reduced augmentation\n",
    "                audio_samples = augmentation(y, config.SR) if use_augmentation else [y]\n",
    "\n",
    "                for audio in audio_samples:\n",
    "                    if len(audio) != target_samples:\n",
    "                        if len(audio) > target_samples:\n",
    "                            audio = audio[:target_samples]\n",
    "                        else:\n",
    "                            audio = np.pad(audio, (0, target_samples - len(audio)))\n",
    "                    \n",
    "                    # Simplified features\n",
    "                    mfcc_features = extract_features(audio, config.SR)\n",
    "                    \n",
    "                    if expected_time_steps is None:\n",
    "                        expected_time_steps = mfcc_features.shape[1]\n",
    "                        print(f\"Features shape defined: {mfcc_features.shape}\")\n",
    "\n",
    "                    # Dimension standardization\n",
    "                    if mfcc_features.shape[1] != expected_time_steps:\n",
    "                        if mfcc_features.shape[1] > expected_time_steps:\n",
    "                            mfcc_features = mfcc_features[:, :expected_time_steps]\n",
    "                        else:\n",
    "                            pad_width = expected_time_steps - mfcc_features.shape[1]\n",
    "                            mfcc_features = np.pad(mfcc_features, ((0, 0), (0, pad_width)), mode='constant')\n",
    "                    \n",
    "                    all_features.append(mfcc_features.T)\n",
    "                    labels.append(class_name)\n",
    "                    file_paths.append(file_path)\n",
    "                        \n",
    "            except Exception as e:\n",
    "                print(f\"Error processing {file_path}: {e}\")\n",
    "                continue\n",
    "\n",
    "    X = np.array(all_features)\n",
    "    print(f\"Final features shape: {X.shape}\")\n",
    "\n",
    "    return X, labels, file_paths"
   ]
  },
  {
   "cell_type": "markdown",
   "id": "09fe7209",
   "metadata": {},
   "source": [
    "5. Model Creation"
   ]
  },
  {
   "cell_type": "code",
   "execution_count": 25,
   "id": "731d7b70",
   "metadata": {},
   "outputs": [],
   "source": [
    "def create_regularized_model(input_shape, num_classes):\n",
    "    \"\"\"Simple model with strong regularization\"\"\"\n",
    "    \n",
    "    inputs = tf.keras.Input(shape=input_shape) # Input for extracted features\n",
    "    \n",
    "    \n",
    "    # Block 1 - Fewer filters\n",
    "    x = tf.keras.layers.Conv2D(32, (3,3), activation='relu', \n",
    "                              kernel_regularizer=l1_l2(l1=0.001, l2=0.001))(inputs)\n",
    "    x = tf.keras.layers.BatchNormalization()(x)\n",
    "    x = tf.keras.layers.MaxPooling2D((2,2))(x)\n",
    "    x = tf.keras.layers.Dropout(0.4)(x)\n",
    "    \n",
    "    # Block 2\n",
    "    x = tf.keras.layers.Conv2D(64, (3,3), activation='relu',\n",
    "                              kernel_regularizer=l1_l2(l1=0.001, l2=0.001))(x)\n",
    "    x = tf.keras.layers.BatchNormalization()(x)\n",
    "    x = tf.keras.layers.MaxPooling2D((2,2))(x)\n",
    "    x = tf.keras.layers.Dropout(0.5)(x)\n",
    "    \n",
    "    # Block 3 - Last conv block\n",
    "    x = tf.keras.layers.Conv2D(128, (3,3), activation='relu',\n",
    "                              kernel_regularizer=l1_l2(l1=0.001, l2=0.001))(x)\n",
    "    x = tf.keras.layers.BatchNormalization()(x)\n",
    "    x = tf.keras.layers.GlobalAveragePooling2D()(x)\n",
    "    x = tf.keras.layers.Dropout(0.6)(x)\n",
    "    \n",
    "    # Reduced dense layers\n",
    "    x = tf.keras.layers.Dense(128, activation='relu', \n",
    "                             kernel_regularizer=l1_l2(l1=0.001, l2=0.001))(x)\n",
    "    x = tf.keras.layers.BatchNormalization()(x)\n",
    "    x = tf.keras.layers.Dropout(config.DROPOUT_RATE)(x)\n",
    "    \n",
    "    # No intermediate dense layer - directly to output\n",
    "    outputs = tf.keras.layers.Dense(num_classes, activation='softmax')(x)\n",
    "    \n",
    "    model = tf.keras.Model(inputs=inputs, outputs=outputs)\n",
    "\n",
    "    # More conservative optimizer\n",
    "    optimizer = tf.keras.optimizers.Adam(learning_rate=config.LEARNING_RATE, \n",
    "                                       beta_1=0.9, beta_2=0.999, epsilon=1e-8)\n",
    "    \n",
    "    model.compile(\n",
    "        optimizer=optimizer,\n",
    "        loss='sparse_categorical_crossentropy',\n",
    "        metrics=['accuracy']\n",
    "    )\n",
    "    \n",
    "    return model"
   ]
  },
  {
   "cell_type": "markdown",
   "id": "73d905c3",
   "metadata": {},
   "source": [
    "7. Training with Callbacks"
   ]
  },
  {
   "cell_type": "code",
   "execution_count": 26,
   "id": "62662f2a",
   "metadata": {},
   "outputs": [],
   "source": [
    "def train_with_strict_early_stopping(model, X_train, y_train, X_val, y_val):\n",
    "    \"\"\"Training with very strict early stopping\"\"\"\n",
    "    \n",
    "    print(f\"X_train shape: {X_train.shape}\")\n",
    "    print(f\"y_train shape: {y_train.shape}\")\n",
    "    print(f\"X_val shape: {X_val.shape}\")\n",
    "    print(f\"y_val shape: {y_val.shape}\")\n",
    "    \n",
    "    # VERY strict early stopping\n",
    "    early_stopping = callbacks.EarlyStopping(\n",
    "        monitor='val_loss',  # Monitor the loss, not the accuracy: the lower the loss, the better, otherwise we stop training if no improvement\n",
    "        patience=8,  # Patience: the number of epochs without improvement before stopping\n",
    "        restore_best_weights=True,\n",
    "        verbose=1, # Display early stopping messages\n",
    "        mode='min', # It's a loss, so we want to minimize it\n",
    "        min_delta=0.001  # That is, the loss must decrease by at least 0.001 to be considered an improvement\n",
    "    )\n",
    "    \n",
    "    # Aggressive learning rate reduction\n",
    "    reduce_lr = callbacks.ReduceLROnPlateau(\n",
    "        monitor='val_loss', \n",
    "        factor=0.5,  # Division by 2\n",
    "        patience=4,  # Very short patience\n",
    "        min_lr=1e-7, # Minimum learning rate: to prevent the model from learning too fast and overfitting\n",
    "        verbose=1, # Display learning rate reduction messages\n",
    "        mode='min'\n",
    "    )\n",
    "    \n",
    "    # Save the best model\n",
    "    model_checkpoint = callbacks.ModelCheckpoint(\n",
    "        os.path.join(config.WORKING_DIR, 'best_model.h5'),\n",
    "        monitor='val_loss',  # Monitor the loss\n",
    "        save_best_only=True,\n",
    "        verbose=1,\n",
    "        mode='min'\n",
    "    )\n",
    "    \n",
    "    # Adaptive batch size: this is the number of samples per batch, adjusted to avoid small batches\n",
    "    # If the number of training samples is too small, we use a batch size of 1 \n",
    "    train_samples = X_train.shape[0] # X_train.shape[0] gives the number of training samples\n",
    "    batch_size = min(config.BATCH_SIZE, train_samples // 8) # That is, the batch size is at most 1/8 of the number of training samples\n",
    "    if batch_size < 1:\n",
    "        batch_size = 1\n",
    "    \n",
    "    print(f\"Batch size used: {batch_size}\")\n",
    "    \n",
    "    # Training\n",
    "    history = model.fit(\n",
    "        X_train, y_train,\n",
    "        epochs=config.EPOCHS,\n",
    "        batch_size=batch_size,\n",
    "        validation_data=(X_val, y_val),\n",
    "        callbacks=[early_stopping, reduce_lr, model_checkpoint],\n",
    "        verbose=1,\n",
    "        shuffle=True\n",
    "    )\n",
    "    \n",
    "    return history"
   ]
  },
  {
   "cell_type": "markdown",
   "id": "ffabe6d2",
   "metadata": {},
   "source": [
    "8. Plot Training History"
   ]
  },
  {
   "cell_type": "code",
   "execution_count": 27,
   "id": "164ea497",
   "metadata": {},
   "outputs": [],
   "source": [
    "def plot_training_history(history):\n",
    "    \"\"\"Visualize training to detect overfitting\"\"\"\n",
    "    fig, (ax1, ax2) = plt.subplots(1, 2, figsize=(15, 5)) # i.e., the graphs will be side by side (code: 1,2: 1 row, 2 columns)\n",
    "    \n",
    "    # Loss\n",
    "    ax1.plot(history.history['loss'], label='Train Loss')\n",
    "    ax1.plot(history.history['val_loss'], label='Validation Loss')\n",
    "    ax1.set_title('Loss per Epoch')\n",
    "    ax1.set_xlabel('Epoch')\n",
    "    ax1.set_ylabel('Loss')\n",
    "    ax1.legend()\n",
    "    ax1.grid(True)\n",
    "    \n",
    "    # Accuracy\n",
    "    ax2.plot(history.history['accuracy'], label='Train Accuracy')\n",
    "    ax2.plot(history.history['val_accuracy'], label='Validation Accuracy')\n",
    "    ax2.set_title('Accuracy per Epoch')\n",
    "    ax2.set_xlabel('Epoch')\n",
    "    ax2.set_ylabel('Accuracy')\n",
    "    ax2.legend()\n",
    "    ax2.grid(True)\n",
    "    \n",
    "    plt.tight_layout()\n",
    "    plt.show()\n",
    "    \n",
    "    # Display final metrics\n",
    "    final_train_acc = history.history['accuracy'][-1]\n",
    "    final_val_acc = history.history['val_accuracy'][-1]\n",
    "    final_train_loss = history.history['loss'][-1]\n",
    "    final_val_loss = history.history['val_loss'][-1]\n",
    "    \n",
    "    print(f\"\\n=== FINAL METRICS ===\")\n",
    "    print(f\"Train Accuracy: {final_train_acc:.4f}\")\n",
    "    print(f\"Validation Accuracy: {final_val_acc:.4f}\")\n",
    "    print(f\"Train Loss: {final_train_loss:.4f}\")\n",
    "    print(f\"Validation Loss: {final_val_loss:.4f}\")\n",
    "    print(f\"Accuracy Gap: {abs(final_train_acc - final_val_acc):.4f}\")\n",
    "    print(f\"Loss Gap: {abs(final_val_loss - final_train_loss):.4f}\")\n",
    "    \n",
    "    # Overfitting detection\n",
    "    if abs(final_train_acc - final_val_acc) > 0.1:\n",
    "        print(\"⚠️  OVERFITTING DETECTED: Accuracy gap > 10%\")\n",
    "    if final_val_loss > final_train_loss * 1.5:\n",
    "        print(\"⚠️  OVERFITTING DETECTED: Val loss >> Train loss\")"
   ]
  },
  {
   "cell_type": "markdown",
   "id": "e960e316",
   "metadata": {},
   "source": [
    "9. Main Script"
   ]
  },
  {
   "cell_type": "code",
   "execution_count": 28,
   "id": "8b5d8d7c",
   "metadata": {},
   "outputs": [
    {
     "name": "stdout",
     "output_type": "stream",
     "text": [
      "=== DATA LOADING ===\n",
      "Detected classes: ['alternator_pulley', 'belt_squeal', 'exhaust_leak', 'Fuel injector', 'knocking', 'normale', 'water_pump']\n"
     ]
    },
    {
     "name": "stderr",
     "output_type": "stream",
     "text": [
      "Processing classes:   0%|          | 0/7 [00:00<?, ?it/s]"
     ]
    },
    {
     "name": "stdout",
     "output_type": "stream",
     "text": [
      "Features shape defined: (26, 94)\n"
     ]
    },
    {
     "name": "stderr",
     "output_type": "stream",
     "text": [
      "Processing classes: 100%|██████████| 7/7 [00:04<00:00,  1.53it/s]\n"
     ]
    },
    {
     "name": "stdout",
     "output_type": "stream",
     "text": [
      "Final features shape: (1050, 94, 26)\n",
      "\n",
      "Data loaded:\n",
      "- Features shape: (1050, 94, 26, 1)\n",
      "- Number of samples: 1050\n",
      "- Classes: ['Fuel injector' 'alternator_pulley' 'belt_squeal' 'exhaust_leak'\n",
      " 'knocking' 'normale' 'water_pump']\n",
      "- Distribution:\n",
      "  * Fuel injector: 150 samples\n",
      "  * alternator_pulley: 150 samples\n",
      "  * belt_squeal: 150 samples\n",
      "  * exhaust_leak: 150 samples\n",
      "  * knocking: 150 samples\n",
      "  * normale: 150 samples\n",
      "  * water_pump: 150 samples\n",
      "\n",
      "Data split:\n",
      "- Train: 630 samples (60.0%)\n",
      "- Validation: 210 samples (20.0%)\n",
      "- Test: 210 samples (20.0%)\n",
      "\n",
      "=== REGULARIZED MODEL CREATION ===\n"
     ]
    },
    {
     "data": {
      "text/html": [
       "<pre style=\"white-space:pre;overflow-x:auto;line-height:normal;font-family:Menlo,'DejaVu Sans Mono',consolas,'Courier New',monospace\"><span style=\"font-weight: bold\">Model: \"functional_2\"</span>\n",
       "</pre>\n"
      ],
      "text/plain": [
       "\u001b[1mModel: \"functional_2\"\u001b[0m\n"
      ]
     },
     "metadata": {},
     "output_type": "display_data"
    },
    {
     "data": {
      "text/html": [
       "<pre style=\"white-space:pre;overflow-x:auto;line-height:normal;font-family:Menlo,'DejaVu Sans Mono',consolas,'Courier New',monospace\">┏━━━━━━━━━━━━━━━━━━━━━━━━━━━━━━━━━┳━━━━━━━━━━━━━━━━━━━━━━━━┳━━━━━━━━━━━━━━━┓\n",
       "┃<span style=\"font-weight: bold\"> Layer (type)                    </span>┃<span style=\"font-weight: bold\"> Output Shape           </span>┃<span style=\"font-weight: bold\">       Param # </span>┃\n",
       "┡━━━━━━━━━━━━━━━━━━━━━━━━━━━━━━━━━╇━━━━━━━━━━━━━━━━━━━━━━━━╇━━━━━━━━━━━━━━━┩\n",
       "│ input_layer_2 (<span style=\"color: #0087ff; text-decoration-color: #0087ff\">InputLayer</span>)      │ (<span style=\"color: #00d7ff; text-decoration-color: #00d7ff\">None</span>, <span style=\"color: #00af00; text-decoration-color: #00af00\">94</span>, <span style=\"color: #00af00; text-decoration-color: #00af00\">26</span>, <span style=\"color: #00af00; text-decoration-color: #00af00\">1</span>)      │             <span style=\"color: #00af00; text-decoration-color: #00af00\">0</span> │\n",
       "├─────────────────────────────────┼────────────────────────┼───────────────┤\n",
       "│ conv2d_6 (<span style=\"color: #0087ff; text-decoration-color: #0087ff\">Conv2D</span>)               │ (<span style=\"color: #00d7ff; text-decoration-color: #00d7ff\">None</span>, <span style=\"color: #00af00; text-decoration-color: #00af00\">92</span>, <span style=\"color: #00af00; text-decoration-color: #00af00\">24</span>, <span style=\"color: #00af00; text-decoration-color: #00af00\">32</span>)     │           <span style=\"color: #00af00; text-decoration-color: #00af00\">320</span> │\n",
       "├─────────────────────────────────┼────────────────────────┼───────────────┤\n",
       "│ batch_normalization_8           │ (<span style=\"color: #00d7ff; text-decoration-color: #00d7ff\">None</span>, <span style=\"color: #00af00; text-decoration-color: #00af00\">92</span>, <span style=\"color: #00af00; text-decoration-color: #00af00\">24</span>, <span style=\"color: #00af00; text-decoration-color: #00af00\">32</span>)     │           <span style=\"color: #00af00; text-decoration-color: #00af00\">128</span> │\n",
       "│ (<span style=\"color: #0087ff; text-decoration-color: #0087ff\">BatchNormalization</span>)            │                        │               │\n",
       "├─────────────────────────────────┼────────────────────────┼───────────────┤\n",
       "│ max_pooling2d_4 (<span style=\"color: #0087ff; text-decoration-color: #0087ff\">MaxPooling2D</span>)  │ (<span style=\"color: #00d7ff; text-decoration-color: #00d7ff\">None</span>, <span style=\"color: #00af00; text-decoration-color: #00af00\">46</span>, <span style=\"color: #00af00; text-decoration-color: #00af00\">12</span>, <span style=\"color: #00af00; text-decoration-color: #00af00\">32</span>)     │             <span style=\"color: #00af00; text-decoration-color: #00af00\">0</span> │\n",
       "├─────────────────────────────────┼────────────────────────┼───────────────┤\n",
       "│ dropout_8 (<span style=\"color: #0087ff; text-decoration-color: #0087ff\">Dropout</span>)             │ (<span style=\"color: #00d7ff; text-decoration-color: #00d7ff\">None</span>, <span style=\"color: #00af00; text-decoration-color: #00af00\">46</span>, <span style=\"color: #00af00; text-decoration-color: #00af00\">12</span>, <span style=\"color: #00af00; text-decoration-color: #00af00\">32</span>)     │             <span style=\"color: #00af00; text-decoration-color: #00af00\">0</span> │\n",
       "├─────────────────────────────────┼────────────────────────┼───────────────┤\n",
       "│ conv2d_7 (<span style=\"color: #0087ff; text-decoration-color: #0087ff\">Conv2D</span>)               │ (<span style=\"color: #00d7ff; text-decoration-color: #00d7ff\">None</span>, <span style=\"color: #00af00; text-decoration-color: #00af00\">44</span>, <span style=\"color: #00af00; text-decoration-color: #00af00\">10</span>, <span style=\"color: #00af00; text-decoration-color: #00af00\">64</span>)     │        <span style=\"color: #00af00; text-decoration-color: #00af00\">18,496</span> │\n",
       "├─────────────────────────────────┼────────────────────────┼───────────────┤\n",
       "│ batch_normalization_9           │ (<span style=\"color: #00d7ff; text-decoration-color: #00d7ff\">None</span>, <span style=\"color: #00af00; text-decoration-color: #00af00\">44</span>, <span style=\"color: #00af00; text-decoration-color: #00af00\">10</span>, <span style=\"color: #00af00; text-decoration-color: #00af00\">64</span>)     │           <span style=\"color: #00af00; text-decoration-color: #00af00\">256</span> │\n",
       "│ (<span style=\"color: #0087ff; text-decoration-color: #0087ff\">BatchNormalization</span>)            │                        │               │\n",
       "├─────────────────────────────────┼────────────────────────┼───────────────┤\n",
       "│ max_pooling2d_5 (<span style=\"color: #0087ff; text-decoration-color: #0087ff\">MaxPooling2D</span>)  │ (<span style=\"color: #00d7ff; text-decoration-color: #00d7ff\">None</span>, <span style=\"color: #00af00; text-decoration-color: #00af00\">22</span>, <span style=\"color: #00af00; text-decoration-color: #00af00\">5</span>, <span style=\"color: #00af00; text-decoration-color: #00af00\">64</span>)      │             <span style=\"color: #00af00; text-decoration-color: #00af00\">0</span> │\n",
       "├─────────────────────────────────┼────────────────────────┼───────────────┤\n",
       "│ dropout_9 (<span style=\"color: #0087ff; text-decoration-color: #0087ff\">Dropout</span>)             │ (<span style=\"color: #00d7ff; text-decoration-color: #00d7ff\">None</span>, <span style=\"color: #00af00; text-decoration-color: #00af00\">22</span>, <span style=\"color: #00af00; text-decoration-color: #00af00\">5</span>, <span style=\"color: #00af00; text-decoration-color: #00af00\">64</span>)      │             <span style=\"color: #00af00; text-decoration-color: #00af00\">0</span> │\n",
       "├─────────────────────────────────┼────────────────────────┼───────────────┤\n",
       "│ conv2d_8 (<span style=\"color: #0087ff; text-decoration-color: #0087ff\">Conv2D</span>)               │ (<span style=\"color: #00d7ff; text-decoration-color: #00d7ff\">None</span>, <span style=\"color: #00af00; text-decoration-color: #00af00\">20</span>, <span style=\"color: #00af00; text-decoration-color: #00af00\">3</span>, <span style=\"color: #00af00; text-decoration-color: #00af00\">128</span>)     │        <span style=\"color: #00af00; text-decoration-color: #00af00\">73,856</span> │\n",
       "├─────────────────────────────────┼────────────────────────┼───────────────┤\n",
       "│ batch_normalization_10          │ (<span style=\"color: #00d7ff; text-decoration-color: #00d7ff\">None</span>, <span style=\"color: #00af00; text-decoration-color: #00af00\">20</span>, <span style=\"color: #00af00; text-decoration-color: #00af00\">3</span>, <span style=\"color: #00af00; text-decoration-color: #00af00\">128</span>)     │           <span style=\"color: #00af00; text-decoration-color: #00af00\">512</span> │\n",
       "│ (<span style=\"color: #0087ff; text-decoration-color: #0087ff\">BatchNormalization</span>)            │                        │               │\n",
       "├─────────────────────────────────┼────────────────────────┼───────────────┤\n",
       "│ global_average_pooling2d_2      │ (<span style=\"color: #00d7ff; text-decoration-color: #00d7ff\">None</span>, <span style=\"color: #00af00; text-decoration-color: #00af00\">128</span>)            │             <span style=\"color: #00af00; text-decoration-color: #00af00\">0</span> │\n",
       "│ (<span style=\"color: #0087ff; text-decoration-color: #0087ff\">GlobalAveragePooling2D</span>)        │                        │               │\n",
       "├─────────────────────────────────┼────────────────────────┼───────────────┤\n",
       "│ dropout_10 (<span style=\"color: #0087ff; text-decoration-color: #0087ff\">Dropout</span>)            │ (<span style=\"color: #00d7ff; text-decoration-color: #00d7ff\">None</span>, <span style=\"color: #00af00; text-decoration-color: #00af00\">128</span>)            │             <span style=\"color: #00af00; text-decoration-color: #00af00\">0</span> │\n",
       "├─────────────────────────────────┼────────────────────────┼───────────────┤\n",
       "│ dense_4 (<span style=\"color: #0087ff; text-decoration-color: #0087ff\">Dense</span>)                 │ (<span style=\"color: #00d7ff; text-decoration-color: #00d7ff\">None</span>, <span style=\"color: #00af00; text-decoration-color: #00af00\">128</span>)            │        <span style=\"color: #00af00; text-decoration-color: #00af00\">16,512</span> │\n",
       "├─────────────────────────────────┼────────────────────────┼───────────────┤\n",
       "│ batch_normalization_11          │ (<span style=\"color: #00d7ff; text-decoration-color: #00d7ff\">None</span>, <span style=\"color: #00af00; text-decoration-color: #00af00\">128</span>)            │           <span style=\"color: #00af00; text-decoration-color: #00af00\">512</span> │\n",
       "│ (<span style=\"color: #0087ff; text-decoration-color: #0087ff\">BatchNormalization</span>)            │                        │               │\n",
       "├─────────────────────────────────┼────────────────────────┼───────────────┤\n",
       "│ dropout_11 (<span style=\"color: #0087ff; text-decoration-color: #0087ff\">Dropout</span>)            │ (<span style=\"color: #00d7ff; text-decoration-color: #00d7ff\">None</span>, <span style=\"color: #00af00; text-decoration-color: #00af00\">128</span>)            │             <span style=\"color: #00af00; text-decoration-color: #00af00\">0</span> │\n",
       "├─────────────────────────────────┼────────────────────────┼───────────────┤\n",
       "│ dense_5 (<span style=\"color: #0087ff; text-decoration-color: #0087ff\">Dense</span>)                 │ (<span style=\"color: #00d7ff; text-decoration-color: #00d7ff\">None</span>, <span style=\"color: #00af00; text-decoration-color: #00af00\">7</span>)              │           <span style=\"color: #00af00; text-decoration-color: #00af00\">903</span> │\n",
       "└─────────────────────────────────┴────────────────────────┴───────────────┘\n",
       "</pre>\n"
      ],
      "text/plain": [
       "┏━━━━━━━━━━━━━━━━━━━━━━━━━━━━━━━━━┳━━━━━━━━━━━━━━━━━━━━━━━━┳━━━━━━━━━━━━━━━┓\n",
       "┃\u001b[1m \u001b[0m\u001b[1mLayer (type)                   \u001b[0m\u001b[1m \u001b[0m┃\u001b[1m \u001b[0m\u001b[1mOutput Shape          \u001b[0m\u001b[1m \u001b[0m┃\u001b[1m \u001b[0m\u001b[1m      Param #\u001b[0m\u001b[1m \u001b[0m┃\n",
       "┡━━━━━━━━━━━━━━━━━━━━━━━━━━━━━━━━━╇━━━━━━━━━━━━━━━━━━━━━━━━╇━━━━━━━━━━━━━━━┩\n",
       "│ input_layer_2 (\u001b[38;5;33mInputLayer\u001b[0m)      │ (\u001b[38;5;45mNone\u001b[0m, \u001b[38;5;34m94\u001b[0m, \u001b[38;5;34m26\u001b[0m, \u001b[38;5;34m1\u001b[0m)      │             \u001b[38;5;34m0\u001b[0m │\n",
       "├─────────────────────────────────┼────────────────────────┼───────────────┤\n",
       "│ conv2d_6 (\u001b[38;5;33mConv2D\u001b[0m)               │ (\u001b[38;5;45mNone\u001b[0m, \u001b[38;5;34m92\u001b[0m, \u001b[38;5;34m24\u001b[0m, \u001b[38;5;34m32\u001b[0m)     │           \u001b[38;5;34m320\u001b[0m │\n",
       "├─────────────────────────────────┼────────────────────────┼───────────────┤\n",
       "│ batch_normalization_8           │ (\u001b[38;5;45mNone\u001b[0m, \u001b[38;5;34m92\u001b[0m, \u001b[38;5;34m24\u001b[0m, \u001b[38;5;34m32\u001b[0m)     │           \u001b[38;5;34m128\u001b[0m │\n",
       "│ (\u001b[38;5;33mBatchNormalization\u001b[0m)            │                        │               │\n",
       "├─────────────────────────────────┼────────────────────────┼───────────────┤\n",
       "│ max_pooling2d_4 (\u001b[38;5;33mMaxPooling2D\u001b[0m)  │ (\u001b[38;5;45mNone\u001b[0m, \u001b[38;5;34m46\u001b[0m, \u001b[38;5;34m12\u001b[0m, \u001b[38;5;34m32\u001b[0m)     │             \u001b[38;5;34m0\u001b[0m │\n",
       "├─────────────────────────────────┼────────────────────────┼───────────────┤\n",
       "│ dropout_8 (\u001b[38;5;33mDropout\u001b[0m)             │ (\u001b[38;5;45mNone\u001b[0m, \u001b[38;5;34m46\u001b[0m, \u001b[38;5;34m12\u001b[0m, \u001b[38;5;34m32\u001b[0m)     │             \u001b[38;5;34m0\u001b[0m │\n",
       "├─────────────────────────────────┼────────────────────────┼───────────────┤\n",
       "│ conv2d_7 (\u001b[38;5;33mConv2D\u001b[0m)               │ (\u001b[38;5;45mNone\u001b[0m, \u001b[38;5;34m44\u001b[0m, \u001b[38;5;34m10\u001b[0m, \u001b[38;5;34m64\u001b[0m)     │        \u001b[38;5;34m18,496\u001b[0m │\n",
       "├─────────────────────────────────┼────────────────────────┼───────────────┤\n",
       "│ batch_normalization_9           │ (\u001b[38;5;45mNone\u001b[0m, \u001b[38;5;34m44\u001b[0m, \u001b[38;5;34m10\u001b[0m, \u001b[38;5;34m64\u001b[0m)     │           \u001b[38;5;34m256\u001b[0m │\n",
       "│ (\u001b[38;5;33mBatchNormalization\u001b[0m)            │                        │               │\n",
       "├─────────────────────────────────┼────────────────────────┼───────────────┤\n",
       "│ max_pooling2d_5 (\u001b[38;5;33mMaxPooling2D\u001b[0m)  │ (\u001b[38;5;45mNone\u001b[0m, \u001b[38;5;34m22\u001b[0m, \u001b[38;5;34m5\u001b[0m, \u001b[38;5;34m64\u001b[0m)      │             \u001b[38;5;34m0\u001b[0m │\n",
       "├─────────────────────────────────┼────────────────────────┼───────────────┤\n",
       "│ dropout_9 (\u001b[38;5;33mDropout\u001b[0m)             │ (\u001b[38;5;45mNone\u001b[0m, \u001b[38;5;34m22\u001b[0m, \u001b[38;5;34m5\u001b[0m, \u001b[38;5;34m64\u001b[0m)      │             \u001b[38;5;34m0\u001b[0m │\n",
       "├─────────────────────────────────┼────────────────────────┼───────────────┤\n",
       "│ conv2d_8 (\u001b[38;5;33mConv2D\u001b[0m)               │ (\u001b[38;5;45mNone\u001b[0m, \u001b[38;5;34m20\u001b[0m, \u001b[38;5;34m3\u001b[0m, \u001b[38;5;34m128\u001b[0m)     │        \u001b[38;5;34m73,856\u001b[0m │\n",
       "├─────────────────────────────────┼────────────────────────┼───────────────┤\n",
       "│ batch_normalization_10          │ (\u001b[38;5;45mNone\u001b[0m, \u001b[38;5;34m20\u001b[0m, \u001b[38;5;34m3\u001b[0m, \u001b[38;5;34m128\u001b[0m)     │           \u001b[38;5;34m512\u001b[0m │\n",
       "│ (\u001b[38;5;33mBatchNormalization\u001b[0m)            │                        │               │\n",
       "├─────────────────────────────────┼────────────────────────┼───────────────┤\n",
       "│ global_average_pooling2d_2      │ (\u001b[38;5;45mNone\u001b[0m, \u001b[38;5;34m128\u001b[0m)            │             \u001b[38;5;34m0\u001b[0m │\n",
       "│ (\u001b[38;5;33mGlobalAveragePooling2D\u001b[0m)        │                        │               │\n",
       "├─────────────────────────────────┼────────────────────────┼───────────────┤\n",
       "│ dropout_10 (\u001b[38;5;33mDropout\u001b[0m)            │ (\u001b[38;5;45mNone\u001b[0m, \u001b[38;5;34m128\u001b[0m)            │             \u001b[38;5;34m0\u001b[0m │\n",
       "├─────────────────────────────────┼────────────────────────┼───────────────┤\n",
       "│ dense_4 (\u001b[38;5;33mDense\u001b[0m)                 │ (\u001b[38;5;45mNone\u001b[0m, \u001b[38;5;34m128\u001b[0m)            │        \u001b[38;5;34m16,512\u001b[0m │\n",
       "├─────────────────────────────────┼────────────────────────┼───────────────┤\n",
       "│ batch_normalization_11          │ (\u001b[38;5;45mNone\u001b[0m, \u001b[38;5;34m128\u001b[0m)            │           \u001b[38;5;34m512\u001b[0m │\n",
       "│ (\u001b[38;5;33mBatchNormalization\u001b[0m)            │                        │               │\n",
       "├─────────────────────────────────┼────────────────────────┼───────────────┤\n",
       "│ dropout_11 (\u001b[38;5;33mDropout\u001b[0m)            │ (\u001b[38;5;45mNone\u001b[0m, \u001b[38;5;34m128\u001b[0m)            │             \u001b[38;5;34m0\u001b[0m │\n",
       "├─────────────────────────────────┼────────────────────────┼───────────────┤\n",
       "│ dense_5 (\u001b[38;5;33mDense\u001b[0m)                 │ (\u001b[38;5;45mNone\u001b[0m, \u001b[38;5;34m7\u001b[0m)              │           \u001b[38;5;34m903\u001b[0m │\n",
       "└─────────────────────────────────┴────────────────────────┴───────────────┘\n"
      ]
     },
     "metadata": {},
     "output_type": "display_data"
    },
    {
     "data": {
      "text/html": [
       "<pre style=\"white-space:pre;overflow-x:auto;line-height:normal;font-family:Menlo,'DejaVu Sans Mono',consolas,'Courier New',monospace\"><span style=\"font-weight: bold\"> Total params: </span><span style=\"color: #00af00; text-decoration-color: #00af00\">111,495</span> (435.53 KB)\n",
       "</pre>\n"
      ],
      "text/plain": [
       "\u001b[1m Total params: \u001b[0m\u001b[38;5;34m111,495\u001b[0m (435.53 KB)\n"
      ]
     },
     "metadata": {},
     "output_type": "display_data"
    },
    {
     "data": {
      "text/html": [
       "<pre style=\"white-space:pre;overflow-x:auto;line-height:normal;font-family:Menlo,'DejaVu Sans Mono',consolas,'Courier New',monospace\"><span style=\"font-weight: bold\"> Trainable params: </span><span style=\"color: #00af00; text-decoration-color: #00af00\">110,791</span> (432.78 KB)\n",
       "</pre>\n"
      ],
      "text/plain": [
       "\u001b[1m Trainable params: \u001b[0m\u001b[38;5;34m110,791\u001b[0m (432.78 KB)\n"
      ]
     },
     "metadata": {},
     "output_type": "display_data"
    },
    {
     "data": {
      "text/html": [
       "<pre style=\"white-space:pre;overflow-x:auto;line-height:normal;font-family:Menlo,'DejaVu Sans Mono',consolas,'Courier New',monospace\"><span style=\"font-weight: bold\"> Non-trainable params: </span><span style=\"color: #00af00; text-decoration-color: #00af00\">704</span> (2.75 KB)\n",
       "</pre>\n"
      ],
      "text/plain": [
       "\u001b[1m Non-trainable params: \u001b[0m\u001b[38;5;34m704\u001b[0m (2.75 KB)\n"
      ]
     },
     "metadata": {},
     "output_type": "display_data"
    },
    {
     "name": "stdout",
     "output_type": "stream",
     "text": [
      "\n",
      "=== STRICT TRAINING ===\n",
      "X_train shape: (630, 94, 26, 1)\n",
      "y_train shape: (630,)\n",
      "X_val shape: (210, 94, 26, 1)\n",
      "y_val shape: (210,)\n",
      "Batch size used: 32\n",
      "Epoch 1/80\n",
      "\u001b[1m20/20\u001b[0m \u001b[32m━━━━━━━━━━━━━━━━━━━━\u001b[0m\u001b[37m\u001b[0m \u001b[1m0s\u001b[0m 19ms/step - accuracy: 0.2048 - loss: 7.1818\n",
      "Epoch 1: val_loss improved from None to 6.75839, saving model to C:\\Users\\naima\\OneDrive\\Desktop\\Work\\Modèle_Panne_Voiture\\best_model.h5\n"
     ]
    },
    {
     "name": "stderr",
     "output_type": "stream",
     "text": [
      "WARNING:absl:You are saving your model as an HDF5 file via `model.save()` or `keras.saving.save_model(model)`. This file format is considered legacy. We recommend using instead the native Keras format, e.g. `model.save('my_model.keras')` or `keras.saving.save_model(model, 'my_model.keras')`. \n"
     ]
    },
    {
     "name": "stdout",
     "output_type": "stream",
     "text": [
      "\u001b[1m20/20\u001b[0m \u001b[32m━━━━━━━━━━━━━━━━━━━━\u001b[0m\u001b[37m\u001b[0m \u001b[1m2s\u001b[0m 33ms/step - accuracy: 0.2810 - loss: 6.7647 - val_accuracy: 0.2429 - val_loss: 6.7584 - learning_rate: 0.0010\n",
      "Epoch 2/80\n",
      "\u001b[1m17/20\u001b[0m \u001b[32m━━━━━━━━━━━━━━━━━\u001b[0m\u001b[37m━━━\u001b[0m \u001b[1m0s\u001b[0m 18ms/step - accuracy: 0.3888 - loss: 6.1537\n",
      "Epoch 2: val_loss improved from 6.75839 to 6.51670, saving model to C:\\Users\\naima\\OneDrive\\Desktop\\Work\\Modèle_Panne_Voiture\\best_model.h5\n"
     ]
    },
    {
     "name": "stderr",
     "output_type": "stream",
     "text": [
      "WARNING:absl:You are saving your model as an HDF5 file via `model.save()` or `keras.saving.save_model(model)`. This file format is considered legacy. We recommend using instead the native Keras format, e.g. `model.save('my_model.keras')` or `keras.saving.save_model(model, 'my_model.keras')`. \n"
     ]
    },
    {
     "name": "stdout",
     "output_type": "stream",
     "text": [
      "\u001b[1m20/20\u001b[0m \u001b[32m━━━━━━━━━━━━━━━━━━━━\u001b[0m\u001b[37m\u001b[0m \u001b[1m0s\u001b[0m 22ms/step - accuracy: 0.4111 - loss: 6.0984 - val_accuracy: 0.1571 - val_loss: 6.5167 - learning_rate: 0.0010\n",
      "Epoch 3/80\n",
      "\u001b[1m17/20\u001b[0m \u001b[32m━━━━━━━━━━━━━━━━━\u001b[0m\u001b[37m━━━\u001b[0m \u001b[1m0s\u001b[0m 18ms/step - accuracy: 0.5328 - loss: 5.6581\n",
      "Epoch 3: val_loss improved from 6.51670 to 6.04868, saving model to C:\\Users\\naima\\OneDrive\\Desktop\\Work\\Modèle_Panne_Voiture\\best_model.h5\n"
     ]
    },
    {
     "name": "stderr",
     "output_type": "stream",
     "text": [
      "WARNING:absl:You are saving your model as an HDF5 file via `model.save()` or `keras.saving.save_model(model)`. This file format is considered legacy. We recommend using instead the native Keras format, e.g. `model.save('my_model.keras')` or `keras.saving.save_model(model, 'my_model.keras')`. \n"
     ]
    },
    {
     "name": "stdout",
     "output_type": "stream",
     "text": [
      "\u001b[1m20/20\u001b[0m \u001b[32m━━━━━━━━━━━━━━━━━━━━\u001b[0m\u001b[37m\u001b[0m \u001b[1m0s\u001b[0m 22ms/step - accuracy: 0.5397 - loss: 5.5675 - val_accuracy: 0.1905 - val_loss: 6.0487 - learning_rate: 0.0010\n",
      "Epoch 4/80\n",
      "\u001b[1m19/20\u001b[0m \u001b[32m━━━━━━━━━━━━━━━━━━━\u001b[0m\u001b[37m━\u001b[0m \u001b[1m0s\u001b[0m 17ms/step - accuracy: 0.6318 - loss: 5.1974\n",
      "Epoch 4: val_loss improved from 6.04868 to 5.27469, saving model to C:\\Users\\naima\\OneDrive\\Desktop\\Work\\Modèle_Panne_Voiture\\best_model.h5\n"
     ]
    },
    {
     "name": "stderr",
     "output_type": "stream",
     "text": [
      "WARNING:absl:You are saving your model as an HDF5 file via `model.save()` or `keras.saving.save_model(model)`. This file format is considered legacy. We recommend using instead the native Keras format, e.g. `model.save('my_model.keras')` or `keras.saving.save_model(model, 'my_model.keras')`. \n"
     ]
    },
    {
     "name": "stdout",
     "output_type": "stream",
     "text": [
      "\u001b[1m20/20\u001b[0m \u001b[32m━━━━━━━━━━━━━━━━━━━━\u001b[0m\u001b[37m\u001b[0m \u001b[1m0s\u001b[0m 21ms/step - accuracy: 0.6111 - loss: 5.2283 - val_accuracy: 0.5333 - val_loss: 5.2747 - learning_rate: 0.0010\n",
      "Epoch 5/80\n",
      "\u001b[1m19/20\u001b[0m \u001b[32m━━━━━━━━━━━━━━━━━━━\u001b[0m\u001b[37m━\u001b[0m \u001b[1m0s\u001b[0m 18ms/step - accuracy: 0.6486 - loss: 5.0333\n",
      "Epoch 5: val_loss improved from 5.27469 to 4.93837, saving model to C:\\Users\\naima\\OneDrive\\Desktop\\Work\\Modèle_Panne_Voiture\\best_model.h5\n"
     ]
    },
    {
     "name": "stderr",
     "output_type": "stream",
     "text": [
      "WARNING:absl:You are saving your model as an HDF5 file via `model.save()` or `keras.saving.save_model(model)`. This file format is considered legacy. We recommend using instead the native Keras format, e.g. `model.save('my_model.keras')` or `keras.saving.save_model(model, 'my_model.keras')`. \n"
     ]
    },
    {
     "name": "stdout",
     "output_type": "stream",
     "text": [
      "\u001b[1m20/20\u001b[0m \u001b[32m━━━━━━━━━━━━━━━━━━━━\u001b[0m\u001b[37m\u001b[0m \u001b[1m0s\u001b[0m 22ms/step - accuracy: 0.6698 - loss: 4.9673 - val_accuracy: 0.8476 - val_loss: 4.9384 - learning_rate: 0.0010\n",
      "Epoch 6/80\n",
      "\u001b[1m19/20\u001b[0m \u001b[32m━━━━━━━━━━━━━━━━━━━\u001b[0m\u001b[37m━\u001b[0m \u001b[1m0s\u001b[0m 17ms/step - accuracy: 0.6903 - loss: 4.7939\n",
      "Epoch 6: val_loss improved from 4.93837 to 4.69543, saving model to C:\\Users\\naima\\OneDrive\\Desktop\\Work\\Modèle_Panne_Voiture\\best_model.h5\n"
     ]
    },
    {
     "name": "stderr",
     "output_type": "stream",
     "text": [
      "WARNING:absl:You are saving your model as an HDF5 file via `model.save()` or `keras.saving.save_model(model)`. This file format is considered legacy. We recommend using instead the native Keras format, e.g. `model.save('my_model.keras')` or `keras.saving.save_model(model, 'my_model.keras')`. \n"
     ]
    },
    {
     "name": "stdout",
     "output_type": "stream",
     "text": [
      "\u001b[1m20/20\u001b[0m \u001b[32m━━━━━━━━━━━━━━━━━━━━\u001b[0m\u001b[37m\u001b[0m \u001b[1m0s\u001b[0m 22ms/step - accuracy: 0.6889 - loss: 4.7521 - val_accuracy: 0.8714 - val_loss: 4.6954 - learning_rate: 0.0010\n",
      "Epoch 7/80\n",
      "\u001b[1m18/20\u001b[0m \u001b[32m━━━━━━━━━━━━━━━━━━\u001b[0m\u001b[37m━━\u001b[0m \u001b[1m0s\u001b[0m 17ms/step - accuracy: 0.7515 - loss: 4.5029\n",
      "Epoch 7: val_loss improved from 4.69543 to 4.45385, saving model to C:\\Users\\naima\\OneDrive\\Desktop\\Work\\Modèle_Panne_Voiture\\best_model.h5\n"
     ]
    },
    {
     "name": "stderr",
     "output_type": "stream",
     "text": [
      "WARNING:absl:You are saving your model as an HDF5 file via `model.save()` or `keras.saving.save_model(model)`. This file format is considered legacy. We recommend using instead the native Keras format, e.g. `model.save('my_model.keras')` or `keras.saving.save_model(model, 'my_model.keras')`. \n"
     ]
    },
    {
     "name": "stdout",
     "output_type": "stream",
     "text": [
      "\u001b[1m20/20\u001b[0m \u001b[32m━━━━━━━━━━━━━━━━━━━━\u001b[0m\u001b[37m\u001b[0m \u001b[1m0s\u001b[0m 21ms/step - accuracy: 0.7413 - loss: 4.4936 - val_accuracy: 0.8762 - val_loss: 4.4539 - learning_rate: 0.0010\n",
      "Epoch 8/80\n",
      "\u001b[1m19/20\u001b[0m \u001b[32m━━━━━━━━━━━━━━━━━━━\u001b[0m\u001b[37m━\u001b[0m \u001b[1m0s\u001b[0m 16ms/step - accuracy: 0.7741 - loss: 4.3657\n",
      "Epoch 8: val_loss improved from 4.45385 to 4.31137, saving model to C:\\Users\\naima\\OneDrive\\Desktop\\Work\\Modèle_Panne_Voiture\\best_model.h5\n"
     ]
    },
    {
     "name": "stderr",
     "output_type": "stream",
     "text": [
      "WARNING:absl:You are saving your model as an HDF5 file via `model.save()` or `keras.saving.save_model(model)`. This file format is considered legacy. We recommend using instead the native Keras format, e.g. `model.save('my_model.keras')` or `keras.saving.save_model(model, 'my_model.keras')`. \n"
     ]
    },
    {
     "name": "stdout",
     "output_type": "stream",
     "text": [
      "\u001b[1m20/20\u001b[0m \u001b[32m━━━━━━━━━━━━━━━━━━━━\u001b[0m\u001b[37m\u001b[0m \u001b[1m0s\u001b[0m 20ms/step - accuracy: 0.7810 - loss: 4.3194 - val_accuracy: 0.8429 - val_loss: 4.3114 - learning_rate: 0.0010\n",
      "Epoch 9/80\n",
      "\u001b[1m18/20\u001b[0m \u001b[32m━━━━━━━━━━━━━━━━━━\u001b[0m\u001b[37m━━\u001b[0m \u001b[1m0s\u001b[0m 17ms/step - accuracy: 0.7861 - loss: 4.1100\n",
      "Epoch 9: val_loss improved from 4.31137 to 4.15051, saving model to C:\\Users\\naima\\OneDrive\\Desktop\\Work\\Modèle_Panne_Voiture\\best_model.h5\n"
     ]
    },
    {
     "name": "stderr",
     "output_type": "stream",
     "text": [
      "WARNING:absl:You are saving your model as an HDF5 file via `model.save()` or `keras.saving.save_model(model)`. This file format is considered legacy. We recommend using instead the native Keras format, e.g. `model.save('my_model.keras')` or `keras.saving.save_model(model, 'my_model.keras')`. \n"
     ]
    },
    {
     "name": "stdout",
     "output_type": "stream",
     "text": [
      "\u001b[1m20/20\u001b[0m \u001b[32m━━━━━━━━━━━━━━━━━━━━\u001b[0m\u001b[37m\u001b[0m \u001b[1m0s\u001b[0m 22ms/step - accuracy: 0.8048 - loss: 4.0831 - val_accuracy: 0.7762 - val_loss: 4.1505 - learning_rate: 0.0010\n",
      "Epoch 10/80\n",
      "\u001b[1m17/20\u001b[0m \u001b[32m━━━━━━━━━━━━━━━━━\u001b[0m\u001b[37m━━━\u001b[0m \u001b[1m0s\u001b[0m 18ms/step - accuracy: 0.8079 - loss: 3.9882\n",
      "Epoch 10: val_loss improved from 4.15051 to 4.04677, saving model to C:\\Users\\naima\\OneDrive\\Desktop\\Work\\Modèle_Panne_Voiture\\best_model.h5\n"
     ]
    },
    {
     "name": "stderr",
     "output_type": "stream",
     "text": [
      "WARNING:absl:You are saving your model as an HDF5 file via `model.save()` or `keras.saving.save_model(model)`. This file format is considered legacy. We recommend using instead the native Keras format, e.g. `model.save('my_model.keras')` or `keras.saving.save_model(model, 'my_model.keras')`. \n"
     ]
    },
    {
     "name": "stdout",
     "output_type": "stream",
     "text": [
      "\u001b[1m20/20\u001b[0m \u001b[32m━━━━━━━━━━━━━━━━━━━━\u001b[0m\u001b[37m\u001b[0m \u001b[1m0s\u001b[0m 22ms/step - accuracy: 0.8333 - loss: 3.9247 - val_accuracy: 0.7381 - val_loss: 4.0468 - learning_rate: 0.0010\n",
      "Epoch 11/80\n",
      "\u001b[1m19/20\u001b[0m \u001b[32m━━━━━━━━━━━━━━━━━━━\u001b[0m\u001b[37m━\u001b[0m \u001b[1m0s\u001b[0m 17ms/step - accuracy: 0.8508 - loss: 3.7623\n",
      "Epoch 11: val_loss improved from 4.04677 to 3.94155, saving model to C:\\Users\\naima\\OneDrive\\Desktop\\Work\\Modèle_Panne_Voiture\\best_model.h5\n"
     ]
    },
    {
     "name": "stderr",
     "output_type": "stream",
     "text": [
      "WARNING:absl:You are saving your model as an HDF5 file via `model.save()` or `keras.saving.save_model(model)`. This file format is considered legacy. We recommend using instead the native Keras format, e.g. `model.save('my_model.keras')` or `keras.saving.save_model(model, 'my_model.keras')`. \n"
     ]
    },
    {
     "name": "stdout",
     "output_type": "stream",
     "text": [
      "\u001b[1m20/20\u001b[0m \u001b[32m━━━━━━━━━━━━━━━━━━━━\u001b[0m\u001b[37m\u001b[0m \u001b[1m0s\u001b[0m 22ms/step - accuracy: 0.8444 - loss: 3.7672 - val_accuracy: 0.7048 - val_loss: 3.9416 - learning_rate: 0.0010\n",
      "Epoch 12/80\n",
      "\u001b[1m19/20\u001b[0m \u001b[32m━━━━━━━━━━━━━━━━━━━\u001b[0m\u001b[37m━\u001b[0m \u001b[1m0s\u001b[0m 16ms/step - accuracy: 0.8663 - loss: 3.6636\n",
      "Epoch 12: val_loss did not improve from 3.94155\n",
      "\u001b[1m20/20\u001b[0m \u001b[32m━━━━━━━━━━━━━━━━━━━━\u001b[0m\u001b[37m\u001b[0m \u001b[1m0s\u001b[0m 20ms/step - accuracy: 0.8524 - loss: 3.6310 - val_accuracy: 0.7238 - val_loss: 3.9573 - learning_rate: 0.0010\n",
      "Epoch 13/80\n",
      "\u001b[1m20/20\u001b[0m \u001b[32m━━━━━━━━━━━━━━━━━━━━\u001b[0m\u001b[37m\u001b[0m \u001b[1m0s\u001b[0m 16ms/step - accuracy: 0.8557 - loss: 3.5247\n",
      "Epoch 13: val_loss improved from 3.94155 to 3.57691, saving model to C:\\Users\\naima\\OneDrive\\Desktop\\Work\\Modèle_Panne_Voiture\\best_model.h5\n"
     ]
    },
    {
     "name": "stderr",
     "output_type": "stream",
     "text": [
      "WARNING:absl:You are saving your model as an HDF5 file via `model.save()` or `keras.saving.save_model(model)`. This file format is considered legacy. We recommend using instead the native Keras format, e.g. `model.save('my_model.keras')` or `keras.saving.save_model(model, 'my_model.keras')`. \n"
     ]
    },
    {
     "name": "stdout",
     "output_type": "stream",
     "text": [
      "\u001b[1m20/20\u001b[0m \u001b[32m━━━━━━━━━━━━━━━━━━━━\u001b[0m\u001b[37m\u001b[0m \u001b[1m0s\u001b[0m 20ms/step - accuracy: 0.8571 - loss: 3.4908 - val_accuracy: 0.8143 - val_loss: 3.5769 - learning_rate: 0.0010\n",
      "Epoch 14/80\n",
      "\u001b[1m17/20\u001b[0m \u001b[32m━━━━━━━━━━━━━━━━━\u001b[0m\u001b[37m━━━\u001b[0m \u001b[1m0s\u001b[0m 18ms/step - accuracy: 0.8856 - loss: 3.3828\n",
      "Epoch 14: val_loss improved from 3.57691 to 3.53380, saving model to C:\\Users\\naima\\OneDrive\\Desktop\\Work\\Modèle_Panne_Voiture\\best_model.h5\n"
     ]
    },
    {
     "name": "stderr",
     "output_type": "stream",
     "text": [
      "WARNING:absl:You are saving your model as an HDF5 file via `model.save()` or `keras.saving.save_model(model)`. This file format is considered legacy. We recommend using instead the native Keras format, e.g. `model.save('my_model.keras')` or `keras.saving.save_model(model, 'my_model.keras')`. \n"
     ]
    },
    {
     "name": "stdout",
     "output_type": "stream",
     "text": [
      "\u001b[1m20/20\u001b[0m \u001b[32m━━━━━━━━━━━━━━━━━━━━\u001b[0m\u001b[37m\u001b[0m \u001b[1m0s\u001b[0m 23ms/step - accuracy: 0.8873 - loss: 3.3628 - val_accuracy: 0.7667 - val_loss: 3.5338 - learning_rate: 0.0010\n",
      "Epoch 15/80\n",
      "\u001b[1m18/20\u001b[0m \u001b[32m━━━━━━━━━━━━━━━━━━\u001b[0m\u001b[37m━━\u001b[0m \u001b[1m0s\u001b[0m 17ms/step - accuracy: 0.9177 - loss: 3.2128\n",
      "Epoch 15: val_loss improved from 3.53380 to 3.38603, saving model to C:\\Users\\naima\\OneDrive\\Desktop\\Work\\Modèle_Panne_Voiture\\best_model.h5\n"
     ]
    },
    {
     "name": "stderr",
     "output_type": "stream",
     "text": [
      "WARNING:absl:You are saving your model as an HDF5 file via `model.save()` or `keras.saving.save_model(model)`. This file format is considered legacy. We recommend using instead the native Keras format, e.g. `model.save('my_model.keras')` or `keras.saving.save_model(model, 'my_model.keras')`. \n"
     ]
    },
    {
     "name": "stdout",
     "output_type": "stream",
     "text": [
      "\u001b[1m20/20\u001b[0m \u001b[32m━━━━━━━━━━━━━━━━━━━━\u001b[0m\u001b[37m\u001b[0m \u001b[1m0s\u001b[0m 20ms/step - accuracy: 0.9159 - loss: 3.1772 - val_accuracy: 0.7857 - val_loss: 3.3860 - learning_rate: 0.0010\n",
      "Epoch 16/80\n",
      "\u001b[1m19/20\u001b[0m \u001b[32m━━━━━━━━━━━━━━━━━━━\u001b[0m\u001b[37m━\u001b[0m \u001b[1m0s\u001b[0m 17ms/step - accuracy: 0.8664 - loss: 3.1772\n",
      "Epoch 16: val_loss did not improve from 3.38603\n",
      "\u001b[1m20/20\u001b[0m \u001b[32m━━━━━━━━━━━━━━━━━━━━\u001b[0m\u001b[37m\u001b[0m \u001b[1m0s\u001b[0m 19ms/step - accuracy: 0.8825 - loss: 3.1199 - val_accuracy: 0.7429 - val_loss: 3.4773 - learning_rate: 0.0010\n",
      "Epoch 17/80\n",
      "\u001b[1m17/20\u001b[0m \u001b[32m━━━━━━━━━━━━━━━━━\u001b[0m\u001b[37m━━━\u001b[0m \u001b[1m0s\u001b[0m 16ms/step - accuracy: 0.9388 - loss: 2.9412\n",
      "Epoch 17: val_loss improved from 3.38603 to 3.20046, saving model to C:\\Users\\naima\\OneDrive\\Desktop\\Work\\Modèle_Panne_Voiture\\best_model.h5\n"
     ]
    },
    {
     "name": "stderr",
     "output_type": "stream",
     "text": [
      "WARNING:absl:You are saving your model as an HDF5 file via `model.save()` or `keras.saving.save_model(model)`. This file format is considered legacy. We recommend using instead the native Keras format, e.g. `model.save('my_model.keras')` or `keras.saving.save_model(model, 'my_model.keras')`. \n"
     ]
    },
    {
     "name": "stdout",
     "output_type": "stream",
     "text": [
      "\u001b[1m20/20\u001b[0m \u001b[32m━━━━━━━━━━━━━━━━━━━━\u001b[0m\u001b[37m\u001b[0m \u001b[1m0s\u001b[0m 20ms/step - accuracy: 0.9159 - loss: 2.9653 - val_accuracy: 0.8095 - val_loss: 3.2005 - learning_rate: 0.0010\n",
      "Epoch 18/80\n",
      "\u001b[1m20/20\u001b[0m \u001b[32m━━━━━━━━━━━━━━━━━━━━\u001b[0m\u001b[37m\u001b[0m \u001b[1m0s\u001b[0m 16ms/step - accuracy: 0.9123 - loss: 2.9332\n",
      "Epoch 18: val_loss improved from 3.20046 to 3.13113, saving model to C:\\Users\\naima\\OneDrive\\Desktop\\Work\\Modèle_Panne_Voiture\\best_model.h5\n"
     ]
    },
    {
     "name": "stderr",
     "output_type": "stream",
     "text": [
      "WARNING:absl:You are saving your model as an HDF5 file via `model.save()` or `keras.saving.save_model(model)`. This file format is considered legacy. We recommend using instead the native Keras format, e.g. `model.save('my_model.keras')` or `keras.saving.save_model(model, 'my_model.keras')`. \n"
     ]
    },
    {
     "name": "stdout",
     "output_type": "stream",
     "text": [
      "\u001b[1m20/20\u001b[0m \u001b[32m━━━━━━━━━━━━━━━━━━━━\u001b[0m\u001b[37m\u001b[0m \u001b[1m0s\u001b[0m 21ms/step - accuracy: 0.9159 - loss: 2.8870 - val_accuracy: 0.8000 - val_loss: 3.1311 - learning_rate: 0.0010\n",
      "Epoch 19/80\n",
      "\u001b[1m18/20\u001b[0m \u001b[32m━━━━━━━━━━━━━━━━━━\u001b[0m\u001b[37m━━\u001b[0m \u001b[1m0s\u001b[0m 17ms/step - accuracy: 0.9065 - loss: 2.7777\n",
      "Epoch 19: val_loss improved from 3.13113 to 2.98698, saving model to C:\\Users\\naima\\OneDrive\\Desktop\\Work\\Modèle_Panne_Voiture\\best_model.h5\n"
     ]
    },
    {
     "name": "stderr",
     "output_type": "stream",
     "text": [
      "WARNING:absl:You are saving your model as an HDF5 file via `model.save()` or `keras.saving.save_model(model)`. This file format is considered legacy. We recommend using instead the native Keras format, e.g. `model.save('my_model.keras')` or `keras.saving.save_model(model, 'my_model.keras')`. \n"
     ]
    },
    {
     "name": "stdout",
     "output_type": "stream",
     "text": [
      "\u001b[1m20/20\u001b[0m \u001b[32m━━━━━━━━━━━━━━━━━━━━\u001b[0m\u001b[37m\u001b[0m \u001b[1m0s\u001b[0m 21ms/step - accuracy: 0.9159 - loss: 2.7512 - val_accuracy: 0.8095 - val_loss: 2.9870 - learning_rate: 0.0010\n",
      "Epoch 20/80\n",
      "\u001b[1m17/20\u001b[0m \u001b[32m━━━━━━━━━━━━━━━━━\u001b[0m\u001b[37m━━━\u001b[0m \u001b[1m0s\u001b[0m 16ms/step - accuracy: 0.9410 - loss: 2.6723\n",
      "Epoch 20: val_loss improved from 2.98698 to 2.91480, saving model to C:\\Users\\naima\\OneDrive\\Desktop\\Work\\Modèle_Panne_Voiture\\best_model.h5\n"
     ]
    },
    {
     "name": "stderr",
     "output_type": "stream",
     "text": [
      "WARNING:absl:You are saving your model as an HDF5 file via `model.save()` or `keras.saving.save_model(model)`. This file format is considered legacy. We recommend using instead the native Keras format, e.g. `model.save('my_model.keras')` or `keras.saving.save_model(model, 'my_model.keras')`. \n"
     ]
    },
    {
     "name": "stdout",
     "output_type": "stream",
     "text": [
      "\u001b[1m20/20\u001b[0m \u001b[32m━━━━━━━━━━━━━━━━━━━━\u001b[0m\u001b[37m\u001b[0m \u001b[1m0s\u001b[0m 20ms/step - accuracy: 0.9349 - loss: 2.6459 - val_accuracy: 0.8000 - val_loss: 2.9148 - learning_rate: 0.0010\n",
      "Epoch 21/80\n",
      "\u001b[1m20/20\u001b[0m \u001b[32m━━━━━━━━━━━━━━━━━━━━\u001b[0m\u001b[37m\u001b[0m \u001b[1m0s\u001b[0m 16ms/step - accuracy: 0.9401 - loss: 2.5819\n",
      "Epoch 21: val_loss improved from 2.91480 to 2.83538, saving model to C:\\Users\\naima\\OneDrive\\Desktop\\Work\\Modèle_Panne_Voiture\\best_model.h5\n"
     ]
    },
    {
     "name": "stderr",
     "output_type": "stream",
     "text": [
      "WARNING:absl:You are saving your model as an HDF5 file via `model.save()` or `keras.saving.save_model(model)`. This file format is considered legacy. We recommend using instead the native Keras format, e.g. `model.save('my_model.keras')` or `keras.saving.save_model(model, 'my_model.keras')`. \n"
     ]
    },
    {
     "name": "stdout",
     "output_type": "stream",
     "text": [
      "\u001b[1m20/20\u001b[0m \u001b[32m━━━━━━━━━━━━━━━━━━━━\u001b[0m\u001b[37m\u001b[0m \u001b[1m0s\u001b[0m 20ms/step - accuracy: 0.9302 - loss: 2.5894 - val_accuracy: 0.8190 - val_loss: 2.8354 - learning_rate: 0.0010\n",
      "Epoch 22/80\n",
      "\u001b[1m17/20\u001b[0m \u001b[32m━━━━━━━━━━━━━━━━━\u001b[0m\u001b[37m━━━\u001b[0m \u001b[1m0s\u001b[0m 17ms/step - accuracy: 0.9274 - loss: 2.5034\n",
      "Epoch 22: val_loss did not improve from 2.83538\n",
      "\u001b[1m20/20\u001b[0m \u001b[32m━━━━━━━━━━━━━━━━━━━━\u001b[0m\u001b[37m\u001b[0m \u001b[1m0s\u001b[0m 20ms/step - accuracy: 0.9143 - loss: 2.5224 - val_accuracy: 0.7429 - val_loss: 3.0318 - learning_rate: 0.0010\n",
      "Epoch 23/80\n",
      "\u001b[1m17/20\u001b[0m \u001b[32m━━━━━━━━━━━━━━━━━\u001b[0m\u001b[37m━━━\u001b[0m \u001b[1m0s\u001b[0m 17ms/step - accuracy: 0.9404 - loss: 2.4350\n",
      "Epoch 23: val_loss improved from 2.83538 to 2.72370, saving model to C:\\Users\\naima\\OneDrive\\Desktop\\Work\\Modèle_Panne_Voiture\\best_model.h5\n"
     ]
    },
    {
     "name": "stderr",
     "output_type": "stream",
     "text": [
      "WARNING:absl:You are saving your model as an HDF5 file via `model.save()` or `keras.saving.save_model(model)`. This file format is considered legacy. We recommend using instead the native Keras format, e.g. `model.save('my_model.keras')` or `keras.saving.save_model(model, 'my_model.keras')`. \n"
     ]
    },
    {
     "name": "stdout",
     "output_type": "stream",
     "text": [
      "\u001b[1m20/20\u001b[0m \u001b[32m━━━━━━━━━━━━━━━━━━━━\u001b[0m\u001b[37m\u001b[0m \u001b[1m0s\u001b[0m 21ms/step - accuracy: 0.9302 - loss: 2.4560 - val_accuracy: 0.8524 - val_loss: 2.7237 - learning_rate: 0.0010\n",
      "Epoch 24/80\n",
      "\u001b[1m19/20\u001b[0m \u001b[32m━━━━━━━━━━━━━━━━━━━\u001b[0m\u001b[37m━\u001b[0m \u001b[1m0s\u001b[0m 16ms/step - accuracy: 0.9247 - loss: 2.3795\n",
      "Epoch 24: val_loss improved from 2.72370 to 2.39318, saving model to C:\\Users\\naima\\OneDrive\\Desktop\\Work\\Modèle_Panne_Voiture\\best_model.h5\n"
     ]
    },
    {
     "name": "stderr",
     "output_type": "stream",
     "text": [
      "WARNING:absl:You are saving your model as an HDF5 file via `model.save()` or `keras.saving.save_model(model)`. This file format is considered legacy. We recommend using instead the native Keras format, e.g. `model.save('my_model.keras')` or `keras.saving.save_model(model, 'my_model.keras')`. \n"
     ]
    },
    {
     "name": "stdout",
     "output_type": "stream",
     "text": [
      "\u001b[1m20/20\u001b[0m \u001b[32m━━━━━━━━━━━━━━━━━━━━\u001b[0m\u001b[37m\u001b[0m \u001b[1m0s\u001b[0m 21ms/step - accuracy: 0.9286 - loss: 2.3431 - val_accuracy: 0.9095 - val_loss: 2.3932 - learning_rate: 0.0010\n",
      "Epoch 25/80\n",
      "\u001b[1m16/20\u001b[0m \u001b[32m━━━━━━━━━━━━━━━━\u001b[0m\u001b[37m━━━━\u001b[0m \u001b[1m0s\u001b[0m 18ms/step - accuracy: 0.9091 - loss: 2.3327\n",
      "Epoch 25: val_loss did not improve from 2.39318\n",
      "\u001b[1m20/20\u001b[0m \u001b[32m━━━━━━━━━━━━━━━━━━━━\u001b[0m\u001b[37m\u001b[0m \u001b[1m0s\u001b[0m 20ms/step - accuracy: 0.9238 - loss: 2.3124 - val_accuracy: 0.8619 - val_loss: 2.5184 - learning_rate: 0.0010\n",
      "Epoch 26/80\n",
      "\u001b[1m18/20\u001b[0m \u001b[32m━━━━━━━━━━━━━━━━━━\u001b[0m\u001b[37m━━\u001b[0m \u001b[1m0s\u001b[0m 17ms/step - accuracy: 0.8983 - loss: 2.3312\n",
      "Epoch 26: val_loss did not improve from 2.39318\n",
      "\u001b[1m20/20\u001b[0m \u001b[32m━━━━━━━━━━━━━━━━━━━━\u001b[0m\u001b[37m\u001b[0m \u001b[1m0s\u001b[0m 20ms/step - accuracy: 0.9222 - loss: 2.2723 - val_accuracy: 0.8762 - val_loss: 2.4313 - learning_rate: 0.0010\n",
      "Epoch 27/80\n",
      "\u001b[1m16/20\u001b[0m \u001b[32m━━━━━━━━━━━━━━━━\u001b[0m\u001b[37m━━━━\u001b[0m \u001b[1m0s\u001b[0m 16ms/step - accuracy: 0.9398 - loss: 2.1519\n",
      "Epoch 27: val_loss improved from 2.39318 to 2.19945, saving model to C:\\Users\\naima\\OneDrive\\Desktop\\Work\\Modèle_Panne_Voiture\\best_model.h5\n"
     ]
    },
    {
     "name": "stderr",
     "output_type": "stream",
     "text": [
      "WARNING:absl:You are saving your model as an HDF5 file via `model.save()` or `keras.saving.save_model(model)`. This file format is considered legacy. We recommend using instead the native Keras format, e.g. `model.save('my_model.keras')` or `keras.saving.save_model(model, 'my_model.keras')`. \n"
     ]
    },
    {
     "name": "stdout",
     "output_type": "stream",
     "text": [
      "\u001b[1m20/20\u001b[0m \u001b[32m━━━━━━━━━━━━━━━━━━━━\u001b[0m\u001b[37m\u001b[0m \u001b[1m0s\u001b[0m 20ms/step - accuracy: 0.9365 - loss: 2.1482 - val_accuracy: 0.9238 - val_loss: 2.1995 - learning_rate: 0.0010\n",
      "Epoch 28/80\n",
      "\u001b[1m19/20\u001b[0m \u001b[32m━━━━━━━━━━━━━━━━━━━\u001b[0m\u001b[37m━\u001b[0m \u001b[1m0s\u001b[0m 16ms/step - accuracy: 0.9184 - loss: 2.1468\n",
      "Epoch 28: val_loss did not improve from 2.19945\n",
      "\u001b[1m20/20\u001b[0m \u001b[32m━━━━━━━━━━━━━━━━━━━━\u001b[0m\u001b[37m\u001b[0m \u001b[1m0s\u001b[0m 19ms/step - accuracy: 0.9238 - loss: 2.1448 - val_accuracy: 0.8333 - val_loss: 2.3415 - learning_rate: 0.0010\n",
      "Epoch 29/80\n",
      "\u001b[1m19/20\u001b[0m \u001b[32m━━━━━━━━━━━━━━━━━━━\u001b[0m\u001b[37m━\u001b[0m \u001b[1m0s\u001b[0m 17ms/step - accuracy: 0.9222 - loss: 2.0680\n",
      "Epoch 29: val_loss did not improve from 2.19945\n",
      "\u001b[1m20/20\u001b[0m \u001b[32m━━━━━━━━━━━━━━━━━━━━\u001b[0m\u001b[37m\u001b[0m \u001b[1m0s\u001b[0m 20ms/step - accuracy: 0.9222 - loss: 2.0665 - val_accuracy: 0.8286 - val_loss: 2.3376 - learning_rate: 0.0010\n",
      "Epoch 30/80\n",
      "\u001b[1m20/20\u001b[0m \u001b[32m━━━━━━━━━━━━━━━━━━━━\u001b[0m\u001b[37m\u001b[0m \u001b[1m0s\u001b[0m 16ms/step - accuracy: 0.9566 - loss: 1.9793\n",
      "Epoch 30: val_loss improved from 2.19945 to 2.03021, saving model to C:\\Users\\naima\\OneDrive\\Desktop\\Work\\Modèle_Panne_Voiture\\best_model.h5\n"
     ]
    },
    {
     "name": "stderr",
     "output_type": "stream",
     "text": [
      "WARNING:absl:You are saving your model as an HDF5 file via `model.save()` or `keras.saving.save_model(model)`. This file format is considered legacy. We recommend using instead the native Keras format, e.g. `model.save('my_model.keras')` or `keras.saving.save_model(model, 'my_model.keras')`. \n"
     ]
    },
    {
     "name": "stdout",
     "output_type": "stream",
     "text": [
      "\u001b[1m20/20\u001b[0m \u001b[32m━━━━━━━━━━━━━━━━━━━━\u001b[0m\u001b[37m\u001b[0m \u001b[1m0s\u001b[0m 20ms/step - accuracy: 0.9492 - loss: 1.9796 - val_accuracy: 0.9095 - val_loss: 2.0302 - learning_rate: 0.0010\n",
      "Epoch 31/80\n",
      "\u001b[1m18/20\u001b[0m \u001b[32m━━━━━━━━━━━━━━━━━━\u001b[0m\u001b[37m━━\u001b[0m \u001b[1m0s\u001b[0m 15ms/step - accuracy: 0.9524 - loss: 1.9602\n",
      "Epoch 31: val_loss did not improve from 2.03021\n",
      "\u001b[1m20/20\u001b[0m \u001b[32m━━━━━━━━━━━━━━━━━━━━\u001b[0m\u001b[37m\u001b[0m \u001b[1m0s\u001b[0m 19ms/step - accuracy: 0.9492 - loss: 1.9363 - val_accuracy: 0.8524 - val_loss: 2.2329 - learning_rate: 0.0010\n",
      "Epoch 32/80\n",
      "\u001b[1m17/20\u001b[0m \u001b[32m━━━━━━━━━━━━━━━━━\u001b[0m\u001b[37m━━━\u001b[0m \u001b[1m0s\u001b[0m 16ms/step - accuracy: 0.9387 - loss: 1.8832\n",
      "Epoch 32: val_loss did not improve from 2.03021\n",
      "\u001b[1m20/20\u001b[0m \u001b[32m━━━━━━━━━━━━━━━━━━━━\u001b[0m\u001b[37m\u001b[0m \u001b[1m0s\u001b[0m 19ms/step - accuracy: 0.9492 - loss: 1.8664 - val_accuracy: 0.8810 - val_loss: 2.1525 - learning_rate: 0.0010\n",
      "Epoch 33/80\n",
      "\u001b[1m20/20\u001b[0m \u001b[32m━━━━━━━━━━━━━━━━━━━━\u001b[0m\u001b[37m\u001b[0m \u001b[1m0s\u001b[0m 16ms/step - accuracy: 0.9637 - loss: 1.7947\n",
      "Epoch 33: val_loss did not improve from 2.03021\n",
      "\u001b[1m20/20\u001b[0m \u001b[32m━━━━━━━━━━━━━━━━━━━━\u001b[0m\u001b[37m\u001b[0m \u001b[1m0s\u001b[0m 19ms/step - accuracy: 0.9571 - loss: 1.8018 - val_accuracy: 0.8286 - val_loss: 2.2215 - learning_rate: 0.0010\n",
      "Epoch 34/80\n",
      "\u001b[1m18/20\u001b[0m \u001b[32m━━━━━━━━━━━━━━━━━━\u001b[0m\u001b[37m━━\u001b[0m \u001b[1m0s\u001b[0m 17ms/step - accuracy: 0.9615 - loss: 1.7401\n",
      "Epoch 34: val_loss improved from 2.03021 to 1.95303, saving model to C:\\Users\\naima\\OneDrive\\Desktop\\Work\\Modèle_Panne_Voiture\\best_model.h5\n"
     ]
    },
    {
     "name": "stderr",
     "output_type": "stream",
     "text": [
      "WARNING:absl:You are saving your model as an HDF5 file via `model.save()` or `keras.saving.save_model(model)`. This file format is considered legacy. We recommend using instead the native Keras format, e.g. `model.save('my_model.keras')` or `keras.saving.save_model(model, 'my_model.keras')`. \n"
     ]
    },
    {
     "name": "stdout",
     "output_type": "stream",
     "text": [
      "\u001b[1m20/20\u001b[0m \u001b[32m━━━━━━━━━━━━━━━━━━━━\u001b[0m\u001b[37m\u001b[0m \u001b[1m0s\u001b[0m 21ms/step - accuracy: 0.9508 - loss: 1.7428 - val_accuracy: 0.8810 - val_loss: 1.9530 - learning_rate: 0.0010\n",
      "Epoch 35/80\n",
      "\u001b[1m20/20\u001b[0m \u001b[32m━━━━━━━━━━━━━━━━━━━━\u001b[0m\u001b[37m\u001b[0m \u001b[1m0s\u001b[0m 16ms/step - accuracy: 0.9386 - loss: 1.7547\n",
      "Epoch 35: val_loss did not improve from 1.95303\n",
      "\u001b[1m20/20\u001b[0m \u001b[32m━━━━━━━━━━━━━━━━━━━━\u001b[0m\u001b[37m\u001b[0m \u001b[1m0s\u001b[0m 19ms/step - accuracy: 0.9429 - loss: 1.7609 - val_accuracy: 0.8476 - val_loss: 2.1530 - learning_rate: 0.0010\n",
      "Epoch 36/80\n",
      "\u001b[1m20/20\u001b[0m \u001b[32m━━━━━━━━━━━━━━━━━━━━\u001b[0m\u001b[37m\u001b[0m \u001b[1m0s\u001b[0m 16ms/step - accuracy: 0.9786 - loss: 1.6394\n",
      "Epoch 36: val_loss did not improve from 1.95303\n",
      "\u001b[1m20/20\u001b[0m \u001b[32m━━━━━━━━━━━━━━━━━━━━\u001b[0m\u001b[37m\u001b[0m \u001b[1m0s\u001b[0m 19ms/step - accuracy: 0.9667 - loss: 1.6467 - val_accuracy: 0.8238 - val_loss: 1.9658 - learning_rate: 0.0010\n",
      "Epoch 37/80\n",
      "\u001b[1m17/20\u001b[0m \u001b[32m━━━━━━━━━━━━━━━━━\u001b[0m\u001b[37m━━━\u001b[0m \u001b[1m0s\u001b[0m 17ms/step - accuracy: 0.9510 - loss: 1.6210\n",
      "Epoch 37: val_loss improved from 1.95303 to 1.78780, saving model to C:\\Users\\naima\\OneDrive\\Desktop\\Work\\Modèle_Panne_Voiture\\best_model.h5\n"
     ]
    },
    {
     "name": "stderr",
     "output_type": "stream",
     "text": [
      "WARNING:absl:You are saving your model as an HDF5 file via `model.save()` or `keras.saving.save_model(model)`. This file format is considered legacy. We recommend using instead the native Keras format, e.g. `model.save('my_model.keras')` or `keras.saving.save_model(model, 'my_model.keras')`. \n"
     ]
    },
    {
     "name": "stdout",
     "output_type": "stream",
     "text": [
      "\u001b[1m20/20\u001b[0m \u001b[32m━━━━━━━━━━━━━━━━━━━━\u001b[0m\u001b[37m\u001b[0m \u001b[1m0s\u001b[0m 21ms/step - accuracy: 0.9381 - loss: 1.6439 - val_accuracy: 0.9000 - val_loss: 1.7878 - learning_rate: 0.0010\n",
      "Epoch 38/80\n",
      "\u001b[1m19/20\u001b[0m \u001b[32m━━━━━━━━━━━━━━━━━━━\u001b[0m\u001b[37m━\u001b[0m \u001b[1m0s\u001b[0m 16ms/step - accuracy: 0.9710 - loss: 1.5821\n",
      "Epoch 38: val_loss did not improve from 1.78780\n",
      "\u001b[1m20/20\u001b[0m \u001b[32m━━━━━━━━━━━━━━━━━━━━\u001b[0m\u001b[37m\u001b[0m \u001b[1m0s\u001b[0m 20ms/step - accuracy: 0.9587 - loss: 1.5778 - val_accuracy: 0.8810 - val_loss: 1.8394 - learning_rate: 0.0010\n",
      "Epoch 39/80\n",
      "\u001b[1m18/20\u001b[0m \u001b[32m━━━━━━━━━━━━━━━━━━\u001b[0m\u001b[37m━━\u001b[0m \u001b[1m0s\u001b[0m 16ms/step - accuracy: 0.9460 - loss: 1.5531\n",
      "Epoch 39: val_loss improved from 1.78780 to 1.65308, saving model to C:\\Users\\naima\\OneDrive\\Desktop\\Work\\Modèle_Panne_Voiture\\best_model.h5\n"
     ]
    },
    {
     "name": "stderr",
     "output_type": "stream",
     "text": [
      "WARNING:absl:You are saving your model as an HDF5 file via `model.save()` or `keras.saving.save_model(model)`. This file format is considered legacy. We recommend using instead the native Keras format, e.g. `model.save('my_model.keras')` or `keras.saving.save_model(model, 'my_model.keras')`. \n"
     ]
    },
    {
     "name": "stdout",
     "output_type": "stream",
     "text": [
      "\u001b[1m20/20\u001b[0m \u001b[32m━━━━━━━━━━━━━━━━━━━━\u001b[0m\u001b[37m\u001b[0m \u001b[1m0s\u001b[0m 20ms/step - accuracy: 0.9508 - loss: 1.5521 - val_accuracy: 0.9095 - val_loss: 1.6531 - learning_rate: 0.0010\n",
      "Epoch 40/80\n",
      "\u001b[1m20/20\u001b[0m \u001b[32m━━━━━━━━━━━━━━━━━━━━\u001b[0m\u001b[37m\u001b[0m \u001b[1m0s\u001b[0m 16ms/step - accuracy: 0.9663 - loss: 1.4914\n",
      "Epoch 40: val_loss did not improve from 1.65308\n",
      "\u001b[1m20/20\u001b[0m \u001b[32m━━━━━━━━━━━━━━━━━━━━\u001b[0m\u001b[37m\u001b[0m \u001b[1m0s\u001b[0m 19ms/step - accuracy: 0.9619 - loss: 1.5101 - val_accuracy: 0.8048 - val_loss: 1.9992 - learning_rate: 0.0010\n",
      "Epoch 41/80\n",
      "\u001b[1m19/20\u001b[0m \u001b[32m━━━━━━━━━━━━━━━━━━━\u001b[0m\u001b[37m━\u001b[0m \u001b[1m0s\u001b[0m 16ms/step - accuracy: 0.9676 - loss: 1.4557\n",
      "Epoch 41: val_loss improved from 1.65308 to 1.52662, saving model to C:\\Users\\naima\\OneDrive\\Desktop\\Work\\Modèle_Panne_Voiture\\best_model.h5\n"
     ]
    },
    {
     "name": "stderr",
     "output_type": "stream",
     "text": [
      "WARNING:absl:You are saving your model as an HDF5 file via `model.save()` or `keras.saving.save_model(model)`. This file format is considered legacy. We recommend using instead the native Keras format, e.g. `model.save('my_model.keras')` or `keras.saving.save_model(model, 'my_model.keras')`. \n"
     ]
    },
    {
     "name": "stdout",
     "output_type": "stream",
     "text": [
      "\u001b[1m20/20\u001b[0m \u001b[32m━━━━━━━━━━━━━━━━━━━━\u001b[0m\u001b[37m\u001b[0m \u001b[1m0s\u001b[0m 21ms/step - accuracy: 0.9571 - loss: 1.4589 - val_accuracy: 0.9524 - val_loss: 1.5266 - learning_rate: 0.0010\n",
      "Epoch 42/80\n",
      "\u001b[1m18/20\u001b[0m \u001b[32m━━━━━━━━━━━━━━━━━━\u001b[0m\u001b[37m━━\u001b[0m \u001b[1m0s\u001b[0m 17ms/step - accuracy: 0.9588 - loss: 1.4648\n",
      "Epoch 42: val_loss improved from 1.52662 to 1.49057, saving model to C:\\Users\\naima\\OneDrive\\Desktop\\Work\\Modèle_Panne_Voiture\\best_model.h5\n"
     ]
    },
    {
     "name": "stderr",
     "output_type": "stream",
     "text": [
      "WARNING:absl:You are saving your model as an HDF5 file via `model.save()` or `keras.saving.save_model(model)`. This file format is considered legacy. We recommend using instead the native Keras format, e.g. `model.save('my_model.keras')` or `keras.saving.save_model(model, 'my_model.keras')`. \n"
     ]
    },
    {
     "name": "stdout",
     "output_type": "stream",
     "text": [
      "\u001b[1m20/20\u001b[0m \u001b[32m━━━━━━━━━━━━━━━━━━━━\u001b[0m\u001b[37m\u001b[0m \u001b[1m0s\u001b[0m 21ms/step - accuracy: 0.9683 - loss: 1.4165 - val_accuracy: 0.9190 - val_loss: 1.4906 - learning_rate: 0.0010\n",
      "Epoch 43/80\n",
      "\u001b[1m19/20\u001b[0m \u001b[32m━━━━━━━━━━━━━━━━━━━\u001b[0m\u001b[37m━\u001b[0m \u001b[1m0s\u001b[0m 18ms/step - accuracy: 0.9628 - loss: 1.3833\n",
      "Epoch 43: val_loss did not improve from 1.49057\n",
      "\u001b[1m20/20\u001b[0m \u001b[32m━━━━━━━━━━━━━━━━━━━━\u001b[0m\u001b[37m\u001b[0m \u001b[1m0s\u001b[0m 21ms/step - accuracy: 0.9508 - loss: 1.4090 - val_accuracy: 0.9000 - val_loss: 1.5355 - learning_rate: 0.0010\n",
      "Epoch 44/80\n",
      "\u001b[1m19/20\u001b[0m \u001b[32m━━━━━━━━━━━━━━━━━━━\u001b[0m\u001b[37m━\u001b[0m \u001b[1m0s\u001b[0m 16ms/step - accuracy: 0.9680 - loss: 1.3561\n",
      "Epoch 44: val_loss did not improve from 1.49057\n",
      "\u001b[1m20/20\u001b[0m \u001b[32m━━━━━━━━━━━━━━━━━━━━\u001b[0m\u001b[37m\u001b[0m \u001b[1m0s\u001b[0m 20ms/step - accuracy: 0.9556 - loss: 1.3938 - val_accuracy: 0.8190 - val_loss: 1.9331 - learning_rate: 0.0010\n",
      "Epoch 45/80\n",
      "\u001b[1m18/20\u001b[0m \u001b[32m━━━━━━━━━━━━━━━━━━\u001b[0m\u001b[37m━━\u001b[0m \u001b[1m0s\u001b[0m 17ms/step - accuracy: 0.9471 - loss: 1.3909\n",
      "Epoch 45: val_loss did not improve from 1.49057\n",
      "\u001b[1m20/20\u001b[0m \u001b[32m━━━━━━━━━━━━━━━━━━━━\u001b[0m\u001b[37m\u001b[0m \u001b[1m0s\u001b[0m 20ms/step - accuracy: 0.9429 - loss: 1.4052 - val_accuracy: 0.8667 - val_loss: 1.6981 - learning_rate: 0.0010\n",
      "Epoch 46/80\n",
      "\u001b[1m18/20\u001b[0m \u001b[32m━━━━━━━━━━━━━━━━━━\u001b[0m\u001b[37m━━\u001b[0m \u001b[1m0s\u001b[0m 17ms/step - accuracy: 0.9784 - loss: 1.3288\n",
      "Epoch 46: ReduceLROnPlateau reducing learning rate to 0.0005000000237487257.\n",
      "\n",
      "Epoch 46: val_loss did not improve from 1.49057\n",
      "\u001b[1m20/20\u001b[0m \u001b[32m━━━━━━━━━━━━━━━━━━━━\u001b[0m\u001b[37m\u001b[0m \u001b[1m0s\u001b[0m 21ms/step - accuracy: 0.9714 - loss: 1.3479 - val_accuracy: 0.9143 - val_loss: 1.5069 - learning_rate: 0.0010\n",
      "Epoch 47/80\n",
      "\u001b[1m19/20\u001b[0m \u001b[32m━━━━━━━━━━━━━━━━━━━\u001b[0m\u001b[37m━\u001b[0m \u001b[1m0s\u001b[0m 16ms/step - accuracy: 0.9569 - loss: 1.3496\n",
      "Epoch 47: val_loss improved from 1.49057 to 1.45410, saving model to C:\\Users\\naima\\OneDrive\\Desktop\\Work\\Modèle_Panne_Voiture\\best_model.h5\n"
     ]
    },
    {
     "name": "stderr",
     "output_type": "stream",
     "text": [
      "WARNING:absl:You are saving your model as an HDF5 file via `model.save()` or `keras.saving.save_model(model)`. This file format is considered legacy. We recommend using instead the native Keras format, e.g. `model.save('my_model.keras')` or `keras.saving.save_model(model, 'my_model.keras')`. \n"
     ]
    },
    {
     "name": "stdout",
     "output_type": "stream",
     "text": [
      "\u001b[1m20/20\u001b[0m \u001b[32m━━━━━━━━━━━━━━━━━━━━\u001b[0m\u001b[37m\u001b[0m \u001b[1m0s\u001b[0m 20ms/step - accuracy: 0.9587 - loss: 1.3344 - val_accuracy: 0.9286 - val_loss: 1.4541 - learning_rate: 5.0000e-04\n",
      "Epoch 48/80\n",
      "\u001b[1m19/20\u001b[0m \u001b[32m━━━━━━━━━━━━━━━━━━━\u001b[0m\u001b[37m━\u001b[0m \u001b[1m0s\u001b[0m 16ms/step - accuracy: 0.9729 - loss: 1.2449\n",
      "Epoch 48: val_loss did not improve from 1.45410\n",
      "\u001b[1m20/20\u001b[0m \u001b[32m━━━━━━━━━━━━━━━━━━━━\u001b[0m\u001b[37m\u001b[0m \u001b[1m0s\u001b[0m 19ms/step - accuracy: 0.9714 - loss: 1.2462 - val_accuracy: 0.9333 - val_loss: 1.4579 - learning_rate: 5.0000e-04\n",
      "Epoch 49/80\n",
      "\u001b[1m19/20\u001b[0m \u001b[32m━━━━━━━━━━━━━━━━━━━\u001b[0m\u001b[37m━\u001b[0m \u001b[1m0s\u001b[0m 16ms/step - accuracy: 0.9740 - loss: 1.1961\n",
      "Epoch 49: val_loss improved from 1.45410 to 1.45340, saving model to C:\\Users\\naima\\OneDrive\\Desktop\\Work\\Modèle_Panne_Voiture\\best_model.h5\n"
     ]
    },
    {
     "name": "stderr",
     "output_type": "stream",
     "text": [
      "WARNING:absl:You are saving your model as an HDF5 file via `model.save()` or `keras.saving.save_model(model)`. This file format is considered legacy. We recommend using instead the native Keras format, e.g. `model.save('my_model.keras')` or `keras.saving.save_model(model, 'my_model.keras')`. \n"
     ]
    },
    {
     "name": "stdout",
     "output_type": "stream",
     "text": [
      "\u001b[1m20/20\u001b[0m \u001b[32m━━━━━━━━━━━━━━━━━━━━\u001b[0m\u001b[37m\u001b[0m \u001b[1m0s\u001b[0m 20ms/step - accuracy: 0.9698 - loss: 1.2090 - val_accuracy: 0.9000 - val_loss: 1.4534 - learning_rate: 5.0000e-04\n",
      "Epoch 50/80\n",
      "\u001b[1m19/20\u001b[0m \u001b[32m━━━━━━━━━━━━━━━━━━━\u001b[0m\u001b[37m━\u001b[0m \u001b[1m0s\u001b[0m 17ms/step - accuracy: 0.9693 - loss: 1.2200\n",
      "Epoch 50: val_loss improved from 1.45340 to 1.24936, saving model to C:\\Users\\naima\\OneDrive\\Desktop\\Work\\Modèle_Panne_Voiture\\best_model.h5\n"
     ]
    },
    {
     "name": "stderr",
     "output_type": "stream",
     "text": [
      "WARNING:absl:You are saving your model as an HDF5 file via `model.save()` or `keras.saving.save_model(model)`. This file format is considered legacy. We recommend using instead the native Keras format, e.g. `model.save('my_model.keras')` or `keras.saving.save_model(model, 'my_model.keras')`. \n"
     ]
    },
    {
     "name": "stdout",
     "output_type": "stream",
     "text": [
      "\u001b[1m20/20\u001b[0m \u001b[32m━━━━━━━━━━━━━━━━━━━━\u001b[0m\u001b[37m\u001b[0m \u001b[1m0s\u001b[0m 21ms/step - accuracy: 0.9683 - loss: 1.2153 - val_accuracy: 0.9571 - val_loss: 1.2494 - learning_rate: 5.0000e-04\n",
      "Epoch 51/80\n",
      "\u001b[1m20/20\u001b[0m \u001b[32m━━━━━━━━━━━━━━━━━━━━\u001b[0m\u001b[37m\u001b[0m \u001b[1m0s\u001b[0m 16ms/step - accuracy: 0.9845 - loss: 1.1415\n",
      "Epoch 51: val_loss did not improve from 1.24936\n",
      "\u001b[1m20/20\u001b[0m \u001b[32m━━━━━━━━━━━━━━━━━━━━\u001b[0m\u001b[37m\u001b[0m \u001b[1m0s\u001b[0m 19ms/step - accuracy: 0.9762 - loss: 1.1497 - val_accuracy: 0.9238 - val_loss: 1.2913 - learning_rate: 5.0000e-04\n",
      "Epoch 52/80\n",
      "\u001b[1m18/20\u001b[0m \u001b[32m━━━━━━━━━━━━━━━━━━\u001b[0m\u001b[37m━━\u001b[0m \u001b[1m0s\u001b[0m 17ms/step - accuracy: 0.9681 - loss: 1.1324\n",
      "Epoch 52: val_loss improved from 1.24936 to 1.22004, saving model to C:\\Users\\naima\\OneDrive\\Desktop\\Work\\Modèle_Panne_Voiture\\best_model.h5\n"
     ]
    },
    {
     "name": "stderr",
     "output_type": "stream",
     "text": [
      "WARNING:absl:You are saving your model as an HDF5 file via `model.save()` or `keras.saving.save_model(model)`. This file format is considered legacy. We recommend using instead the native Keras format, e.g. `model.save('my_model.keras')` or `keras.saving.save_model(model, 'my_model.keras')`. \n"
     ]
    },
    {
     "name": "stdout",
     "output_type": "stream",
     "text": [
      "\u001b[1m20/20\u001b[0m \u001b[32m━━━━━━━━━━━━━━━━━━━━\u001b[0m\u001b[37m\u001b[0m \u001b[1m0s\u001b[0m 22ms/step - accuracy: 0.9794 - loss: 1.1131 - val_accuracy: 0.9429 - val_loss: 1.2200 - learning_rate: 5.0000e-04\n",
      "Epoch 53/80\n",
      "\u001b[1m19/20\u001b[0m \u001b[32m━━━━━━━━━━━━━━━━━━━\u001b[0m\u001b[37m━\u001b[0m \u001b[1m0s\u001b[0m 17ms/step - accuracy: 0.9702 - loss: 1.0833\n",
      "Epoch 53: val_loss improved from 1.22004 to 1.16118, saving model to C:\\Users\\naima\\OneDrive\\Desktop\\Work\\Modèle_Panne_Voiture\\best_model.h5\n"
     ]
    },
    {
     "name": "stderr",
     "output_type": "stream",
     "text": [
      "WARNING:absl:You are saving your model as an HDF5 file via `model.save()` or `keras.saving.save_model(model)`. This file format is considered legacy. We recommend using instead the native Keras format, e.g. `model.save('my_model.keras')` or `keras.saving.save_model(model, 'my_model.keras')`. \n"
     ]
    },
    {
     "name": "stdout",
     "output_type": "stream",
     "text": [
      "\u001b[1m20/20\u001b[0m \u001b[32m━━━━━━━━━━━━━━━━━━━━\u001b[0m\u001b[37m\u001b[0m \u001b[1m0s\u001b[0m 21ms/step - accuracy: 0.9746 - loss: 1.0723 - val_accuracy: 0.9381 - val_loss: 1.1612 - learning_rate: 5.0000e-04\n",
      "Epoch 54/80\n",
      "\u001b[1m19/20\u001b[0m \u001b[32m━━━━━━━━━━━━━━━━━━━\u001b[0m\u001b[37m━\u001b[0m \u001b[1m0s\u001b[0m 17ms/step - accuracy: 0.9758 - loss: 1.0447\n",
      "Epoch 54: val_loss improved from 1.16118 to 1.13730, saving model to C:\\Users\\naima\\OneDrive\\Desktop\\Work\\Modèle_Panne_Voiture\\best_model.h5\n"
     ]
    },
    {
     "name": "stderr",
     "output_type": "stream",
     "text": [
      "WARNING:absl:You are saving your model as an HDF5 file via `model.save()` or `keras.saving.save_model(model)`. This file format is considered legacy. We recommend using instead the native Keras format, e.g. `model.save('my_model.keras')` or `keras.saving.save_model(model, 'my_model.keras')`. \n"
     ]
    },
    {
     "name": "stdout",
     "output_type": "stream",
     "text": [
      "\u001b[1m20/20\u001b[0m \u001b[32m━━━━━━━━━━━━━━━━━━━━\u001b[0m\u001b[37m\u001b[0m \u001b[1m0s\u001b[0m 21ms/step - accuracy: 0.9778 - loss: 1.0341 - val_accuracy: 0.9476 - val_loss: 1.1373 - learning_rate: 5.0000e-04\n",
      "Epoch 55/80\n",
      "\u001b[1m20/20\u001b[0m \u001b[32m━━━━━━━━━━━━━━━━━━━━\u001b[0m\u001b[37m\u001b[0m \u001b[1m0s\u001b[0m 16ms/step - accuracy: 0.9883 - loss: 1.0124\n",
      "Epoch 55: val_loss did not improve from 1.13730\n",
      "\u001b[1m20/20\u001b[0m \u001b[32m━━━━━━━━━━━━━━━━━━━━\u001b[0m\u001b[37m\u001b[0m \u001b[1m0s\u001b[0m 19ms/step - accuracy: 0.9825 - loss: 1.0264 - val_accuracy: 0.9381 - val_loss: 1.2049 - learning_rate: 5.0000e-04\n",
      "Epoch 56/80\n",
      "\u001b[1m19/20\u001b[0m \u001b[32m━━━━━━━━━━━━━━━━━━━\u001b[0m\u001b[37m━\u001b[0m \u001b[1m0s\u001b[0m 16ms/step - accuracy: 0.9705 - loss: 1.0200\n",
      "Epoch 56: val_loss did not improve from 1.13730\n",
      "\u001b[1m20/20\u001b[0m \u001b[32m━━━━━━━━━━━━━━━━━━━━\u001b[0m\u001b[37m\u001b[0m \u001b[1m0s\u001b[0m 19ms/step - accuracy: 0.9667 - loss: 1.0396 - val_accuracy: 0.9381 - val_loss: 1.1997 - learning_rate: 5.0000e-04\n",
      "Epoch 57/80\n",
      "\u001b[1m19/20\u001b[0m \u001b[32m━━━━━━━━━━━━━━━━━━━\u001b[0m\u001b[37m━\u001b[0m \u001b[1m0s\u001b[0m 17ms/step - accuracy: 0.9722 - loss: 1.0161\n",
      "Epoch 57: val_loss did not improve from 1.13730\n",
      "\u001b[1m20/20\u001b[0m \u001b[32m━━━━━━━━━━━━━━━━━━━━\u001b[0m\u001b[37m\u001b[0m \u001b[1m0s\u001b[0m 20ms/step - accuracy: 0.9841 - loss: 0.9882 - val_accuracy: 0.9048 - val_loss: 1.2555 - learning_rate: 5.0000e-04\n",
      "Epoch 58/80\n",
      "\u001b[1m19/20\u001b[0m \u001b[32m━━━━━━━━━━━━━━━━━━━\u001b[0m\u001b[37m━\u001b[0m \u001b[1m0s\u001b[0m 17ms/step - accuracy: 0.9612 - loss: 0.9970\n",
      "Epoch 58: val_loss improved from 1.13730 to 1.06867, saving model to C:\\Users\\naima\\OneDrive\\Desktop\\Work\\Modèle_Panne_Voiture\\best_model.h5\n"
     ]
    },
    {
     "name": "stderr",
     "output_type": "stream",
     "text": [
      "WARNING:absl:You are saving your model as an HDF5 file via `model.save()` or `keras.saving.save_model(model)`. This file format is considered legacy. We recommend using instead the native Keras format, e.g. `model.save('my_model.keras')` or `keras.saving.save_model(model, 'my_model.keras')`. \n"
     ]
    },
    {
     "name": "stdout",
     "output_type": "stream",
     "text": [
      "\u001b[1m20/20\u001b[0m \u001b[32m━━━━━━━━━━━━━━━━━━━━\u001b[0m\u001b[37m\u001b[0m \u001b[1m0s\u001b[0m 21ms/step - accuracy: 0.9651 - loss: 0.9998 - val_accuracy: 0.9619 - val_loss: 1.0687 - learning_rate: 5.0000e-04\n",
      "Epoch 59/80\n",
      "\u001b[1m19/20\u001b[0m \u001b[32m━━━━━━━━━━━━━━━━━━━\u001b[0m\u001b[37m━\u001b[0m \u001b[1m0s\u001b[0m 16ms/step - accuracy: 0.9664 - loss: 0.9917\n",
      "Epoch 59: val_loss did not improve from 1.06867\n",
      "\u001b[1m20/20\u001b[0m \u001b[32m━━━━━━━━━━━━━━━━━━━━\u001b[0m\u001b[37m\u001b[0m \u001b[1m0s\u001b[0m 20ms/step - accuracy: 0.9508 - loss: 1.0296 - val_accuracy: 0.9048 - val_loss: 1.2205 - learning_rate: 5.0000e-04\n",
      "Epoch 60/80\n",
      "\u001b[1m19/20\u001b[0m \u001b[32m━━━━━━━━━━━━━━━━━━━\u001b[0m\u001b[37m━\u001b[0m \u001b[1m0s\u001b[0m 17ms/step - accuracy: 0.9723 - loss: 1.0289\n",
      "Epoch 60: val_loss did not improve from 1.06867\n",
      "\u001b[1m20/20\u001b[0m \u001b[32m━━━━━━━━━━━━━━━━━━━━\u001b[0m\u001b[37m\u001b[0m \u001b[1m0s\u001b[0m 20ms/step - accuracy: 0.9619 - loss: 1.0353 - val_accuracy: 0.9190 - val_loss: 1.2004 - learning_rate: 5.0000e-04\n",
      "Epoch 61/80\n",
      "\u001b[1m18/20\u001b[0m \u001b[32m━━━━━━━━━━━━━━━━━━\u001b[0m\u001b[37m━━\u001b[0m \u001b[1m0s\u001b[0m 16ms/step - accuracy: 0.9628 - loss: 1.0408\n",
      "Epoch 61: val_loss did not improve from 1.06867\n",
      "\u001b[1m20/20\u001b[0m \u001b[32m━━━━━━━━━━━━━━━━━━━━\u001b[0m\u001b[37m\u001b[0m \u001b[1m0s\u001b[0m 20ms/step - accuracy: 0.9667 - loss: 1.0387 - val_accuracy: 0.9238 - val_loss: 1.1650 - learning_rate: 5.0000e-04\n",
      "Epoch 62/80\n",
      "\u001b[1m18/20\u001b[0m \u001b[32m━━━━━━━━━━━━━━━━━━\u001b[0m\u001b[37m━━\u001b[0m \u001b[1m0s\u001b[0m 18ms/step - accuracy: 0.9617 - loss: 1.0142\n",
      "Epoch 62: ReduceLROnPlateau reducing learning rate to 0.0002500000118743628.\n",
      "\n",
      "Epoch 62: val_loss did not improve from 1.06867\n",
      "\u001b[1m20/20\u001b[0m \u001b[32m━━━━━━━━━━━━━━━━━━━━\u001b[0m\u001b[37m\u001b[0m \u001b[1m0s\u001b[0m 21ms/step - accuracy: 0.9540 - loss: 1.0370 - val_accuracy: 0.9429 - val_loss: 1.1062 - learning_rate: 5.0000e-04\n",
      "Epoch 63/80\n",
      "\u001b[1m17/20\u001b[0m \u001b[32m━━━━━━━━━━━━━━━━━\u001b[0m\u001b[37m━━━\u001b[0m \u001b[1m0s\u001b[0m 17ms/step - accuracy: 0.9798 - loss: 0.9714\n",
      "Epoch 63: val_loss did not improve from 1.06867\n",
      "\u001b[1m20/20\u001b[0m \u001b[32m━━━━━━━━━━━━━━━━━━━━\u001b[0m\u001b[37m\u001b[0m \u001b[1m0s\u001b[0m 20ms/step - accuracy: 0.9746 - loss: 0.9806 - val_accuracy: 0.9429 - val_loss: 1.0960 - learning_rate: 2.5000e-04\n",
      "Epoch 64/80\n",
      "\u001b[1m19/20\u001b[0m \u001b[32m━━━━━━━━━━━━━━━━━━━\u001b[0m\u001b[37m━\u001b[0m \u001b[1m0s\u001b[0m 17ms/step - accuracy: 0.9808 - loss: 0.9386\n",
      "Epoch 64: val_loss improved from 1.06867 to 1.01317, saving model to C:\\Users\\naima\\OneDrive\\Desktop\\Work\\Modèle_Panne_Voiture\\best_model.h5\n"
     ]
    },
    {
     "name": "stderr",
     "output_type": "stream",
     "text": [
      "WARNING:absl:You are saving your model as an HDF5 file via `model.save()` or `keras.saving.save_model(model)`. This file format is considered legacy. We recommend using instead the native Keras format, e.g. `model.save('my_model.keras')` or `keras.saving.save_model(model, 'my_model.keras')`. \n"
     ]
    },
    {
     "name": "stdout",
     "output_type": "stream",
     "text": [
      "\u001b[1m20/20\u001b[0m \u001b[32m━━━━━━━━━━━━━━━━━━━━\u001b[0m\u001b[37m\u001b[0m \u001b[1m0s\u001b[0m 22ms/step - accuracy: 0.9683 - loss: 0.9545 - val_accuracy: 0.9571 - val_loss: 1.0132 - learning_rate: 2.5000e-04\n",
      "Epoch 65/80\n",
      "\u001b[1m18/20\u001b[0m \u001b[32m━━━━━━━━━━━━━━━━━━\u001b[0m\u001b[37m━━\u001b[0m \u001b[1m0s\u001b[0m 17ms/step - accuracy: 0.9856 - loss: 0.8895\n",
      "Epoch 65: val_loss improved from 1.01317 to 1.00644, saving model to C:\\Users\\naima\\OneDrive\\Desktop\\Work\\Modèle_Panne_Voiture\\best_model.h5\n"
     ]
    },
    {
     "name": "stderr",
     "output_type": "stream",
     "text": [
      "WARNING:absl:You are saving your model as an HDF5 file via `model.save()` or `keras.saving.save_model(model)`. This file format is considered legacy. We recommend using instead the native Keras format, e.g. `model.save('my_model.keras')` or `keras.saving.save_model(model, 'my_model.keras')`. \n"
     ]
    },
    {
     "name": "stdout",
     "output_type": "stream",
     "text": [
      "\u001b[1m20/20\u001b[0m \u001b[32m━━━━━━━━━━━━━━━━━━━━\u001b[0m\u001b[37m\u001b[0m \u001b[1m0s\u001b[0m 21ms/step - accuracy: 0.9857 - loss: 0.8882 - val_accuracy: 0.9571 - val_loss: 1.0064 - learning_rate: 2.5000e-04\n",
      "Epoch 66/80\n",
      "\u001b[1m20/20\u001b[0m \u001b[32m━━━━━━━━━━━━━━━━━━━━\u001b[0m\u001b[37m\u001b[0m \u001b[1m0s\u001b[0m 16ms/step - accuracy: 0.9769 - loss: 0.8883\n",
      "Epoch 66: val_loss did not improve from 1.00644\n",
      "\u001b[1m20/20\u001b[0m \u001b[32m━━━━━━━━━━━━━━━━━━━━\u001b[0m\u001b[37m\u001b[0m \u001b[1m0s\u001b[0m 20ms/step - accuracy: 0.9730 - loss: 0.8925 - val_accuracy: 0.9524 - val_loss: 1.0436 - learning_rate: 2.5000e-04\n",
      "Epoch 67/80\n",
      "\u001b[1m18/20\u001b[0m \u001b[32m━━━━━━━━━━━━━━━━━━\u001b[0m\u001b[37m━━\u001b[0m \u001b[1m0s\u001b[0m 17ms/step - accuracy: 0.9833 - loss: 0.8678\n",
      "Epoch 67: val_loss did not improve from 1.00644\n",
      "\u001b[1m20/20\u001b[0m \u001b[32m━━━━━━━━━━━━━━━━━━━━\u001b[0m\u001b[37m\u001b[0m \u001b[1m0s\u001b[0m 20ms/step - accuracy: 0.9825 - loss: 0.8798 - val_accuracy: 0.9333 - val_loss: 1.0509 - learning_rate: 2.5000e-04\n",
      "Epoch 68/80\n",
      "\u001b[1m17/20\u001b[0m \u001b[32m━━━━━━━━━━━━━━━━━\u001b[0m\u001b[37m━━━\u001b[0m \u001b[1m0s\u001b[0m 16ms/step - accuracy: 0.9901 - loss: 0.8477\n",
      "Epoch 68: val_loss improved from 1.00644 to 0.98454, saving model to C:\\Users\\naima\\OneDrive\\Desktop\\Work\\Modèle_Panne_Voiture\\best_model.h5\n"
     ]
    },
    {
     "name": "stderr",
     "output_type": "stream",
     "text": [
      "WARNING:absl:You are saving your model as an HDF5 file via `model.save()` or `keras.saving.save_model(model)`. This file format is considered legacy. We recommend using instead the native Keras format, e.g. `model.save('my_model.keras')` or `keras.saving.save_model(model, 'my_model.keras')`. \n"
     ]
    },
    {
     "name": "stdout",
     "output_type": "stream",
     "text": [
      "\u001b[1m20/20\u001b[0m \u001b[32m━━━━━━━━━━━━━━━━━━━━\u001b[0m\u001b[37m\u001b[0m \u001b[1m0s\u001b[0m 20ms/step - accuracy: 0.9857 - loss: 0.8475 - val_accuracy: 0.9571 - val_loss: 0.9845 - learning_rate: 2.5000e-04\n",
      "Epoch 69/80\n",
      "\u001b[1m20/20\u001b[0m \u001b[32m━━━━━━━━━━━━━━━━━━━━\u001b[0m\u001b[37m\u001b[0m \u001b[1m0s\u001b[0m 16ms/step - accuracy: 0.9851 - loss: 0.8323\n",
      "Epoch 69: val_loss improved from 0.98454 to 0.97036, saving model to C:\\Users\\naima\\OneDrive\\Desktop\\Work\\Modèle_Panne_Voiture\\best_model.h5\n"
     ]
    },
    {
     "name": "stderr",
     "output_type": "stream",
     "text": [
      "WARNING:absl:You are saving your model as an HDF5 file via `model.save()` or `keras.saving.save_model(model)`. This file format is considered legacy. We recommend using instead the native Keras format, e.g. `model.save('my_model.keras')` or `keras.saving.save_model(model, 'my_model.keras')`. \n"
     ]
    },
    {
     "name": "stdout",
     "output_type": "stream",
     "text": [
      "\u001b[1m20/20\u001b[0m \u001b[32m━━━━━━━━━━━━━━━━━━━━\u001b[0m\u001b[37m\u001b[0m \u001b[1m0s\u001b[0m 21ms/step - accuracy: 0.9825 - loss: 0.8350 - val_accuracy: 0.9571 - val_loss: 0.9704 - learning_rate: 2.5000e-04\n",
      "Epoch 70/80\n",
      "\u001b[1m19/20\u001b[0m \u001b[32m━━━━━━━━━━━━━━━━━━━\u001b[0m\u001b[37m━\u001b[0m \u001b[1m0s\u001b[0m 17ms/step - accuracy: 0.9858 - loss: 0.8587\n",
      "Epoch 70: val_loss improved from 0.97036 to 0.92750, saving model to C:\\Users\\naima\\OneDrive\\Desktop\\Work\\Modèle_Panne_Voiture\\best_model.h5\n"
     ]
    },
    {
     "name": "stderr",
     "output_type": "stream",
     "text": [
      "WARNING:absl:You are saving your model as an HDF5 file via `model.save()` or `keras.saving.save_model(model)`. This file format is considered legacy. We recommend using instead the native Keras format, e.g. `model.save('my_model.keras')` or `keras.saving.save_model(model, 'my_model.keras')`. \n"
     ]
    },
    {
     "name": "stdout",
     "output_type": "stream",
     "text": [
      "\u001b[1m20/20\u001b[0m \u001b[32m━━━━━━━━━━━━━━━━━━━━\u001b[0m\u001b[37m\u001b[0m \u001b[1m0s\u001b[0m 21ms/step - accuracy: 0.9841 - loss: 0.8318 - val_accuracy: 0.9619 - val_loss: 0.9275 - learning_rate: 2.5000e-04\n",
      "Epoch 71/80\n",
      "\u001b[1m17/20\u001b[0m \u001b[32m━━━━━━━━━━━━━━━━━\u001b[0m\u001b[37m━━━\u001b[0m \u001b[1m0s\u001b[0m 16ms/step - accuracy: 0.9752 - loss: 0.8300\n",
      "Epoch 71: val_loss did not improve from 0.92750\n",
      "\u001b[1m20/20\u001b[0m \u001b[32m━━━━━━━━━━━━━━━━━━━━\u001b[0m\u001b[37m\u001b[0m \u001b[1m0s\u001b[0m 19ms/step - accuracy: 0.9810 - loss: 0.8196 - val_accuracy: 0.9333 - val_loss: 0.9909 - learning_rate: 2.5000e-04\n",
      "Epoch 72/80\n",
      "\u001b[1m18/20\u001b[0m \u001b[32m━━━━━━━━━━━━━━━━━━\u001b[0m\u001b[37m━━\u001b[0m \u001b[1m0s\u001b[0m 17ms/step - accuracy: 0.9782 - loss: 0.8233\n",
      "Epoch 72: val_loss did not improve from 0.92750\n",
      "\u001b[1m20/20\u001b[0m \u001b[32m━━━━━━━━━━━━━━━━━━━━\u001b[0m\u001b[37m\u001b[0m \u001b[1m0s\u001b[0m 20ms/step - accuracy: 0.9825 - loss: 0.8139 - val_accuracy: 0.9381 - val_loss: 0.9515 - learning_rate: 2.5000e-04\n",
      "Epoch 73/80\n",
      "\u001b[1m17/20\u001b[0m \u001b[32m━━━━━━━━━━━━━━━━━\u001b[0m\u001b[37m━━━\u001b[0m \u001b[1m0s\u001b[0m 16ms/step - accuracy: 0.9849 - loss: 0.8059\n",
      "Epoch 73: val_loss improved from 0.92750 to 0.91761, saving model to C:\\Users\\naima\\OneDrive\\Desktop\\Work\\Modèle_Panne_Voiture\\best_model.h5\n"
     ]
    },
    {
     "name": "stderr",
     "output_type": "stream",
     "text": [
      "WARNING:absl:You are saving your model as an HDF5 file via `model.save()` or `keras.saving.save_model(model)`. This file format is considered legacy. We recommend using instead the native Keras format, e.g. `model.save('my_model.keras')` or `keras.saving.save_model(model, 'my_model.keras')`. \n"
     ]
    },
    {
     "name": "stdout",
     "output_type": "stream",
     "text": [
      "\u001b[1m20/20\u001b[0m \u001b[32m━━━━━━━━━━━━━━━━━━━━\u001b[0m\u001b[37m\u001b[0m \u001b[1m0s\u001b[0m 20ms/step - accuracy: 0.9841 - loss: 0.8017 - val_accuracy: 0.9571 - val_loss: 0.9176 - learning_rate: 2.5000e-04\n",
      "Epoch 74/80\n",
      "\u001b[1m19/20\u001b[0m \u001b[32m━━━━━━━━━━━━━━━━━━━\u001b[0m\u001b[37m━\u001b[0m \u001b[1m0s\u001b[0m 16ms/step - accuracy: 0.9884 - loss: 0.7784\n",
      "Epoch 74: val_loss improved from 0.91761 to 0.91116, saving model to C:\\Users\\naima\\OneDrive\\Desktop\\Work\\Modèle_Panne_Voiture\\best_model.h5\n"
     ]
    },
    {
     "name": "stderr",
     "output_type": "stream",
     "text": [
      "WARNING:absl:You are saving your model as an HDF5 file via `model.save()` or `keras.saving.save_model(model)`. This file format is considered legacy. We recommend using instead the native Keras format, e.g. `model.save('my_model.keras')` or `keras.saving.save_model(model, 'my_model.keras')`. \n"
     ]
    },
    {
     "name": "stdout",
     "output_type": "stream",
     "text": [
      "\u001b[1m20/20\u001b[0m \u001b[32m━━━━━━━━━━━━━━━━━━━━\u001b[0m\u001b[37m\u001b[0m \u001b[1m0s\u001b[0m 20ms/step - accuracy: 0.9857 - loss: 0.7836 - val_accuracy: 0.9571 - val_loss: 0.9112 - learning_rate: 2.5000e-04\n",
      "Epoch 75/80\n",
      "\u001b[1m18/20\u001b[0m \u001b[32m━━━━━━━━━━━━━━━━━━\u001b[0m\u001b[37m━━\u001b[0m \u001b[1m0s\u001b[0m 16ms/step - accuracy: 0.9914 - loss: 0.7723\n",
      "Epoch 75: val_loss did not improve from 0.91116\n",
      "\u001b[1m20/20\u001b[0m \u001b[32m━━━━━━━━━━━━━━━━━━━━\u001b[0m\u001b[37m\u001b[0m \u001b[1m0s\u001b[0m 19ms/step - accuracy: 0.9873 - loss: 0.7757 - val_accuracy: 0.9571 - val_loss: 0.9219 - learning_rate: 2.5000e-04\n",
      "Epoch 76/80\n",
      "\u001b[1m19/20\u001b[0m \u001b[32m━━━━━━━━━━━━━━━━━━━\u001b[0m\u001b[37m━\u001b[0m \u001b[1m0s\u001b[0m 17ms/step - accuracy: 0.9856 - loss: 0.7793\n",
      "Epoch 76: val_loss improved from 0.91116 to 0.88285, saving model to C:\\Users\\naima\\OneDrive\\Desktop\\Work\\Modèle_Panne_Voiture\\best_model.h5\n"
     ]
    },
    {
     "name": "stderr",
     "output_type": "stream",
     "text": [
      "WARNING:absl:You are saving your model as an HDF5 file via `model.save()` or `keras.saving.save_model(model)`. This file format is considered legacy. We recommend using instead the native Keras format, e.g. `model.save('my_model.keras')` or `keras.saving.save_model(model, 'my_model.keras')`. \n"
     ]
    },
    {
     "name": "stdout",
     "output_type": "stream",
     "text": [
      "\u001b[1m20/20\u001b[0m \u001b[32m━━━━━━━━━━━━━━━━━━━━\u001b[0m\u001b[37m\u001b[0m \u001b[1m0s\u001b[0m 20ms/step - accuracy: 0.9873 - loss: 0.7613 - val_accuracy: 0.9619 - val_loss: 0.8829 - learning_rate: 2.5000e-04\n",
      "Epoch 77/80\n",
      "\u001b[1m20/20\u001b[0m \u001b[32m━━━━━━━━━━━━━━━━━━━━\u001b[0m\u001b[37m\u001b[0m \u001b[1m0s\u001b[0m 16ms/step - accuracy: 0.9807 - loss: 0.7703\n",
      "Epoch 77: val_loss improved from 0.88285 to 0.87340, saving model to C:\\Users\\naima\\OneDrive\\Desktop\\Work\\Modèle_Panne_Voiture\\best_model.h5\n"
     ]
    },
    {
     "name": "stderr",
     "output_type": "stream",
     "text": [
      "WARNING:absl:You are saving your model as an HDF5 file via `model.save()` or `keras.saving.save_model(model)`. This file format is considered legacy. We recommend using instead the native Keras format, e.g. `model.save('my_model.keras')` or `keras.saving.save_model(model, 'my_model.keras')`. \n"
     ]
    },
    {
     "name": "stdout",
     "output_type": "stream",
     "text": [
      "\u001b[1m20/20\u001b[0m \u001b[32m━━━━━━━━━━━━━━━━━━━━\u001b[0m\u001b[37m\u001b[0m \u001b[1m0s\u001b[0m 21ms/step - accuracy: 0.9857 - loss: 0.7682 - val_accuracy: 0.9667 - val_loss: 0.8734 - learning_rate: 2.5000e-04\n",
      "Epoch 78/80\n",
      "\u001b[1m19/20\u001b[0m \u001b[32m━━━━━━━━━━━━━━━━━━━\u001b[0m\u001b[37m━\u001b[0m \u001b[1m0s\u001b[0m 16ms/step - accuracy: 0.9831 - loss: 0.7810\n",
      "Epoch 78: val_loss did not improve from 0.87340\n",
      "\u001b[1m20/20\u001b[0m \u001b[32m━━━━━━━━━━━━━━━━━━━━\u001b[0m\u001b[37m\u001b[0m \u001b[1m0s\u001b[0m 19ms/step - accuracy: 0.9889 - loss: 0.7438 - val_accuracy: 0.9476 - val_loss: 0.9329 - learning_rate: 2.5000e-04\n",
      "Epoch 79/80\n",
      "\u001b[1m18/20\u001b[0m \u001b[32m━━━━━━━━━━━━━━━━━━\u001b[0m\u001b[37m━━\u001b[0m \u001b[1m0s\u001b[0m 17ms/step - accuracy: 0.9865 - loss: 0.7316\n",
      "Epoch 79: val_loss improved from 0.87340 to 0.85194, saving model to C:\\Users\\naima\\OneDrive\\Desktop\\Work\\Modèle_Panne_Voiture\\best_model.h5\n"
     ]
    },
    {
     "name": "stderr",
     "output_type": "stream",
     "text": [
      "WARNING:absl:You are saving your model as an HDF5 file via `model.save()` or `keras.saving.save_model(model)`. This file format is considered legacy. We recommend using instead the native Keras format, e.g. `model.save('my_model.keras')` or `keras.saving.save_model(model, 'my_model.keras')`. \n"
     ]
    },
    {
     "name": "stdout",
     "output_type": "stream",
     "text": [
      "\u001b[1m20/20\u001b[0m \u001b[32m━━━━━━━━━━━━━━━━━━━━\u001b[0m\u001b[37m\u001b[0m \u001b[1m0s\u001b[0m 21ms/step - accuracy: 0.9857 - loss: 0.7371 - val_accuracy: 0.9619 - val_loss: 0.8519 - learning_rate: 2.5000e-04\n",
      "Epoch 80/80\n",
      "\u001b[1m17/20\u001b[0m \u001b[32m━━━━━━━━━━━━━━━━━\u001b[0m\u001b[37m━━━\u001b[0m \u001b[1m0s\u001b[0m 17ms/step - accuracy: 0.9784 - loss: 0.7433\n",
      "Epoch 80: val_loss did not improve from 0.85194\n",
      "\u001b[1m20/20\u001b[0m \u001b[32m━━━━━━━━━━━━━━━━━━━━\u001b[0m\u001b[37m\u001b[0m \u001b[1m0s\u001b[0m 20ms/step - accuracy: 0.9810 - loss: 0.7397 - val_accuracy: 0.9619 - val_loss: 0.8802 - learning_rate: 2.5000e-04\n",
      "Restoring model weights from the end of the best epoch: 79.\n",
      "\n",
      "=== TRAINING ANALYSIS ===\n"
     ]
    },
    {
     "data": {
      "image/png": "[encoded data removed]",
      "text/plain": [
       "<Figure size 1500x500 with 2 Axes>"
      ]
     },
     "metadata": {},
     "output_type": "display_data"
    },
    {
     "name": "stdout",
     "output_type": "stream",
     "text": [
      "\n",
      "=== FINAL METRICS ===\n",
      "Train Accuracy: 0.9810\n",
      "Validation Accuracy: 0.9619\n",
      "Train Loss: 0.7397\n",
      "Validation Loss: 0.8802\n",
      "Accuracy Gap: 0.0190\n",
      "Loss Gap: 0.1405\n",
      "\n",
      "=== FINAL EVALUATION ===\n",
      "Test Accuracy: 0.9714\n",
      "Test Loss: 0.7680\n",
      "WARNING:tensorflow:5 out of the last 7 calls to <function TensorFlowTrainer.make_predict_function.<locals>.one_step_on_data_distributed at 0x000001EE0EDBB9C0> triggered tf.function retracing. Tracing is expensive and the excessive number of tracings could be due to (1) creating @tf.function repeatedly in a loop, (2) passing tensors with different shapes, (3) passing Python objects instead of tensors. For (1), please define your @tf.function outside of the loop. For (2), @tf.function has reduce_retracing=True option that can avoid unnecessary retracing. For (3), please refer to https://www.tensorflow.org/guide/function#controlling_retracing and https://www.tensorflow.org/api_docs/python/tf/function for  more details.\n"
     ]
    },
    {
     "name": "stderr",
     "output_type": "stream",
     "text": [
      "WARNING:tensorflow:5 out of the last 7 calls to <function TensorFlowTrainer.make_predict_function.<locals>.one_step_on_data_distributed at 0x000001EE0EDBB9C0> triggered tf.function retracing. Tracing is expensive and the excessive number of tracings could be due to (1) creating @tf.function repeatedly in a loop, (2) passing tensors with different shapes, (3) passing Python objects instead of tensors. For (1), please define your @tf.function outside of the loop. For (2), @tf.function has reduce_retracing=True option that can avoid unnecessary retracing. For (3), please refer to https://www.tensorflow.org/guide/function#controlling_retracing and https://www.tensorflow.org/api_docs/python/tf/function for  more details.\n"
     ]
    },
    {
     "name": "stdout",
     "output_type": "stream",
     "text": [
      "\u001b[1m1/7\u001b[0m \u001b[32m━━\u001b[0m\u001b[37m━━━━━━━━━━━━━━━━━━\u001b[0m \u001b[1m0s\u001b[0m 69ms/stepWARNING:tensorflow:5 out of the last 11 calls to <function TensorFlowTrainer.make_predict_function.<locals>.one_step_on_data_distributed at 0x000001EE0EDBB9C0> triggered tf.function retracing. Tracing is expensive and the excessive number of tracings could be due to (1) creating @tf.function repeatedly in a loop, (2) passing tensors with different shapes, (3) passing Python objects instead of tensors. For (1), please define your @tf.function outside of the loop. For (2), @tf.function has reduce_retracing=True option that can avoid unnecessary retracing. For (3), please refer to https://www.tensorflow.org/guide/function#controlling_retracing and https://www.tensorflow.org/api_docs/python/tf/function for  more details.\n"
     ]
    },
    {
     "name": "stderr",
     "output_type": "stream",
     "text": [
      "WARNING:tensorflow:5 out of the last 11 calls to <function TensorFlowTrainer.make_predict_function.<locals>.one_step_on_data_distributed at 0x000001EE0EDBB9C0> triggered tf.function retracing. Tracing is expensive and the excessive number of tracings could be due to (1) creating @tf.function repeatedly in a loop, (2) passing tensors with different shapes, (3) passing Python objects instead of tensors. For (1), please define your @tf.function outside of the loop. For (2), @tf.function has reduce_retracing=True option that can avoid unnecessary retracing. For (3), please refer to https://www.tensorflow.org/guide/function#controlling_retracing and https://www.tensorflow.org/api_docs/python/tf/function for  more details.\n"
     ]
    },
    {
     "name": "stdout",
     "output_type": "stream",
     "text": [
      "\u001b[1m7/7\u001b[0m \u001b[32m━━━━━━━━━━━━━━━━━━━━\u001b[0m\u001b[37m\u001b[0m \u001b[1m0s\u001b[0m 16ms/step\n",
      "\n",
      "=== CLASSIFICATION REPORT ===\n"
     ]
    },
    {
     "name": "stderr",
     "output_type": "stream",
     "text": [
      "WARNING:absl:You are saving your model as an HDF5 file via `model.save()` or `keras.saving.save_model(model)`. This file format is considered legacy. We recommend using instead the native Keras format, e.g. `model.save('my_model.keras')` or `keras.saving.save_model(model, 'my_model.keras')`. \n"
     ]
    },
    {
     "name": "stdout",
     "output_type": "stream",
     "text": [
      "                   precision    recall  f1-score   support\n",
      "\n",
      "    Fuel injector       0.91      1.00      0.95        30\n",
      "alternator_pulley       0.97      1.00      0.98        30\n",
      "      belt_squeal       1.00      1.00      1.00        30\n",
      "     exhaust_leak       1.00      0.83      0.91        30\n",
      "         knocking       1.00      0.97      0.98        30\n",
      "          normale       1.00      1.00      1.00        30\n",
      "       water_pump       0.94      1.00      0.97        30\n",
      "\n",
      "         accuracy                           0.97       210\n",
      "        macro avg       0.97      0.97      0.97       210\n",
      "     weighted avg       0.97      0.97      0.97       210\n",
      "\n",
      "\n",
      "=== SAVING ===\n",
      "Model saved successfully!\n"
     ]
    }
   ],
   "source": [
    "def main():\n",
    "    print(\"=== DATA LOADING ===\")\n",
    "    # Limit samples per class to reduce overfitting\n",
    "    X, labels, file_paths = load_and_preprocess_data(\n",
    "        config.INPUT_DIR, \n",
    "        use_augmentation=True,\n",
    "        max_samples_per_class=50  # Limit to max 50 samples per class\n",
    "    )\n",
    "    \n",
    "    # Add channel dimension\n",
    "    X = X[..., np.newaxis]\n",
    "    \n",
    "    print(f\"\\nData loaded:\")\n",
    "    print(f\"- Features shape: {X.shape}\")\n",
    "    print(f\"- Number of samples: {len(labels)}\")\n",
    "    \n",
    "    # Label encoding\n",
    "    encoder = LabelEncoder()\n",
    "    y = encoder.fit_transform(labels)\n",
    "    \n",
    "    print(f\"- Classes: {encoder.classes_}\")\n",
    "    print(f\"- Distribution:\")\n",
    "    unique, counts = np.unique(labels, return_counts=True)\n",
    "    for class_name, count in zip(unique, counts):\n",
    "        print(f\"  * {class_name}: {count} samples\")\n",
    "    \n",
    "    # Stratified split with separate validation: this is useful to ensure that each class is represented equally in the training, validation, and test sets\n",
    "    X_temp, X_test, y_temp, y_test = train_test_split( \n",
    "        X, y, test_size=0.2, random_state=42, stratify=y\n",
    "    )\n",
    "    \n",
    "    X_train, X_val, y_train, y_val = train_test_split(\n",
    "        X_temp, y_temp, test_size=0.25, random_state=42, stratify=y_temp  # 0.25 * 0.8 = 0.2 of total\n",
    "    )\n",
    "    \n",
    "    print(f\"\\nData split:\")\n",
    "    print(f\"- Train: {X_train.shape[0]} samples ({X_train.shape[0]/len(X)*100:.1f}%)\")\n",
    "    print(f\"- Validation: {X_val.shape[0]} samples ({X_val.shape[0]/len(X)*100:.1f}%)\")\n",
    "    print(f\"- Test: {X_test.shape[0]} samples ({X_test.shape[0]/len(X)*100:.1f}%)\")\n",
    "    \n",
    "    # Creating regularized model\n",
    "    print(\"\\n=== REGULARIZED MODEL CREATION ===\")\n",
    "    model = create_regularized_model(X.shape[1:], len(encoder.classes_))\n",
    "    model.summary()\n",
    "    \n",
    "    # Strict training\n",
    "    print(\"\\n=== STRICT TRAINING ===\")\n",
    "    history = train_with_strict_early_stopping(model, X_train, y_train, X_val, y_val)\n",
    "    \n",
    "    # Training visualization\n",
    "    print(\"\\n=== TRAINING ANALYSIS ===\")\n",
    "    plot_training_history(history)\n",
    "    \n",
    "    # Final evaluation on test\n",
    "    print(\"\\n=== FINAL EVALUATION ===\")\n",
    "\n",
    "    \n",
    "    test_loss, test_accuracy = model.evaluate(X_test, y_test, verbose=0)\n",
    "    print(f\"Test Accuracy: {test_accuracy:.4f}\")\n",
    "    print(f\"Test Loss: {test_loss:.4f}\")\n",
    "    \n",
    "    # Detailed predictions\n",
    "    y_pred = model.predict(X_test)\n",
    "    y_pred_classes = np.argmax(y_pred, axis=1)\n",
    "    \n",
    "    print(\"\\n=== CLASSIFICATION REPORT ===\")\n",
    "    print(classification_report(y_test, y_pred_classes, \n",
    "                              target_names=encoder.classes_))\n",
    "    \n",
    "    # Saving\n",
    "    print(\"\\n=== SAVING ===\")\n",
    "    model.save(os.path.join(config.WORKING_DIR, 'model.h5'))\n",
    "    joblib.dump(encoder, os.path.join(config.WORKING_DIR, 'model_encoder.joblib'))\n",
    "    \n",
    "    print(\"Model saved successfully!\")\n",
    "    \n",
    "    return model, encoder, history\n",
    "\n",
    "if __name__ == \"__main__\":\n",
    "    model, encoder, history = main()"
   ]
  },
  {
   "cell_type": "code",
   "execution_count": null,
   "id": "36aad51b",
   "metadata": {},
   "outputs": [],
   "source": []
  }
 ],
 "metadata": {
  "kernelspec": {
   "display_name": "Python 3",
   "language": "python",
   "name": "python3"
  },
  "language_info": {
   "codemirror_mode": {
    "name": "ipython",
    "version": 3
   },
   "file_extension": ".py",
   "mimetype": "text/x-python",
   "name": "python",
   "nbconvert_exporter": "python",
   "pygments_lexer": "ipython3",
   "version": "3.11.0"
  }
 },
 "nbformat": 4,
 "nbformat_minor": 5
}
